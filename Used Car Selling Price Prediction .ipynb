{
 "cells": [
  {
   "cell_type": "markdown",
   "metadata": {},
   "source": [
    "### Car price Prediction Model Using a RandomForestRegressor Model, and Train the Model using the Car Selling datapoints."
   ]
  },
  {
   "cell_type": "code",
   "execution_count": 3,
   "metadata": {},
   "outputs": [],
   "source": [
    "## Import necessary libraries\n",
    "\n",
    "import numpy as np\n",
    "import pandas as pd\n",
    "import seaborn as sns\n",
    "import re\n",
    "import matplotlib.pyplot as plt\n",
    "from sklearn.model_selection import train_test_split, StratifiedShuffleSplit , RandomizedSearchCV\n",
    "from sklearn.metrics import accuracy_score\n",
    "from sklearn.linear_model import LinearRegression\n",
    "from sklearn.ensemble import RandomForestRegressor\n",
    "from sklearn.decomposition import PCA\n",
    "from sklearn.metrics import r2_score"
   ]
  },
  {
   "cell_type": "code",
   "execution_count": 4,
   "metadata": {},
   "outputs": [
    {
     "data": {
      "text/html": [
       "<div>\n",
       "<style scoped>\n",
       "    .dataframe tbody tr th:only-of-type {\n",
       "        vertical-align: middle;\n",
       "    }\n",
       "\n",
       "    .dataframe tbody tr th {\n",
       "        vertical-align: top;\n",
       "    }\n",
       "\n",
       "    .dataframe thead th {\n",
       "        text-align: right;\n",
       "    }\n",
       "</style>\n",
       "<table border=\"1\" class=\"dataframe\">\n",
       "  <thead>\n",
       "    <tr style=\"text-align: right;\">\n",
       "      <th></th>\n",
       "      <th>name</th>\n",
       "      <th>year</th>\n",
       "      <th>selling_price</th>\n",
       "      <th>km_driven</th>\n",
       "      <th>fuel</th>\n",
       "      <th>seller_type</th>\n",
       "      <th>transmission</th>\n",
       "      <th>owner</th>\n",
       "      <th>mileage</th>\n",
       "      <th>engine</th>\n",
       "      <th>max_power</th>\n",
       "      <th>torque</th>\n",
       "      <th>seats</th>\n",
       "    </tr>\n",
       "  </thead>\n",
       "  <tbody>\n",
       "    <tr>\n",
       "      <th>0</th>\n",
       "      <td>Maruti Swift Dzire VDI</td>\n",
       "      <td>2014</td>\n",
       "      <td>450000</td>\n",
       "      <td>145500</td>\n",
       "      <td>Diesel</td>\n",
       "      <td>Individual</td>\n",
       "      <td>Manual</td>\n",
       "      <td>First Owner</td>\n",
       "      <td>23.4 kmpl</td>\n",
       "      <td>1248 CC</td>\n",
       "      <td>74 bhp</td>\n",
       "      <td>190Nm@ 2000rpm</td>\n",
       "      <td>5.0</td>\n",
       "    </tr>\n",
       "    <tr>\n",
       "      <th>1</th>\n",
       "      <td>Skoda Rapid 1.5 TDI Ambition</td>\n",
       "      <td>2014</td>\n",
       "      <td>370000</td>\n",
       "      <td>120000</td>\n",
       "      <td>Diesel</td>\n",
       "      <td>Individual</td>\n",
       "      <td>Manual</td>\n",
       "      <td>Second Owner</td>\n",
       "      <td>21.14 kmpl</td>\n",
       "      <td>1498 CC</td>\n",
       "      <td>103.52 bhp</td>\n",
       "      <td>250Nm@ 1500-2500rpm</td>\n",
       "      <td>5.0</td>\n",
       "    </tr>\n",
       "    <tr>\n",
       "      <th>2</th>\n",
       "      <td>Honda City 2017-2020 EXi</td>\n",
       "      <td>2006</td>\n",
       "      <td>158000</td>\n",
       "      <td>140000</td>\n",
       "      <td>Petrol</td>\n",
       "      <td>Individual</td>\n",
       "      <td>Manual</td>\n",
       "      <td>Third Owner</td>\n",
       "      <td>17.7 kmpl</td>\n",
       "      <td>1497 CC</td>\n",
       "      <td>78 bhp</td>\n",
       "      <td>12.7@ 2,700(kgm@ rpm)</td>\n",
       "      <td>5.0</td>\n",
       "    </tr>\n",
       "    <tr>\n",
       "      <th>3</th>\n",
       "      <td>Hyundai i20 Sportz Diesel</td>\n",
       "      <td>2010</td>\n",
       "      <td>225000</td>\n",
       "      <td>127000</td>\n",
       "      <td>Diesel</td>\n",
       "      <td>Individual</td>\n",
       "      <td>Manual</td>\n",
       "      <td>First Owner</td>\n",
       "      <td>23.0 kmpl</td>\n",
       "      <td>1396 CC</td>\n",
       "      <td>90 bhp</td>\n",
       "      <td>22.4 kgm at 1750-2750rpm</td>\n",
       "      <td>5.0</td>\n",
       "    </tr>\n",
       "    <tr>\n",
       "      <th>4</th>\n",
       "      <td>Maruti Swift VXI BSIII</td>\n",
       "      <td>2007</td>\n",
       "      <td>130000</td>\n",
       "      <td>120000</td>\n",
       "      <td>Petrol</td>\n",
       "      <td>Individual</td>\n",
       "      <td>Manual</td>\n",
       "      <td>First Owner</td>\n",
       "      <td>16.1 kmpl</td>\n",
       "      <td>1298 CC</td>\n",
       "      <td>88.2 bhp</td>\n",
       "      <td>11.5@ 4,500(kgm@ rpm)</td>\n",
       "      <td>5.0</td>\n",
       "    </tr>\n",
       "  </tbody>\n",
       "</table>\n",
       "</div>"
      ],
      "text/plain": [
       "                           name  year  selling_price  km_driven    fuel  \\\n",
       "0        Maruti Swift Dzire VDI  2014         450000     145500  Diesel   \n",
       "1  Skoda Rapid 1.5 TDI Ambition  2014         370000     120000  Diesel   \n",
       "2      Honda City 2017-2020 EXi  2006         158000     140000  Petrol   \n",
       "3     Hyundai i20 Sportz Diesel  2010         225000     127000  Diesel   \n",
       "4        Maruti Swift VXI BSIII  2007         130000     120000  Petrol   \n",
       "\n",
       "  seller_type transmission         owner     mileage   engine   max_power  \\\n",
       "0  Individual       Manual   First Owner   23.4 kmpl  1248 CC      74 bhp   \n",
       "1  Individual       Manual  Second Owner  21.14 kmpl  1498 CC  103.52 bhp   \n",
       "2  Individual       Manual   Third Owner   17.7 kmpl  1497 CC      78 bhp   \n",
       "3  Individual       Manual   First Owner   23.0 kmpl  1396 CC      90 bhp   \n",
       "4  Individual       Manual   First Owner   16.1 kmpl  1298 CC    88.2 bhp   \n",
       "\n",
       "                     torque  seats  \n",
       "0            190Nm@ 2000rpm    5.0  \n",
       "1       250Nm@ 1500-2500rpm    5.0  \n",
       "2     12.7@ 2,700(kgm@ rpm)    5.0  \n",
       "3  22.4 kgm at 1750-2750rpm    5.0  \n",
       "4     11.5@ 4,500(kgm@ rpm)    5.0  "
      ]
     },
     "execution_count": 4,
     "metadata": {},
     "output_type": "execute_result"
    }
   ],
   "source": [
    "## Load CSV file\n",
    "\n",
    "cars = pd.read_csv('Car data Price.csv')\n",
    "\n",
    "cars.head()"
   ]
  },
  {
   "cell_type": "markdown",
   "metadata": {},
   "source": [
    "####   Perform EDA  & data Pre-processing on the data"
   ]
  },
  {
   "cell_type": "code",
   "execution_count": 5,
   "metadata": {},
   "outputs": [
    {
     "data": {
      "text/plain": [
       "(8128, 13)"
      ]
     },
     "execution_count": 5,
     "metadata": {},
     "output_type": "execute_result"
    }
   ],
   "source": [
    "cars.shape"
   ]
  },
  {
   "cell_type": "code",
   "execution_count": 6,
   "metadata": {},
   "outputs": [
    {
     "name": "stdout",
     "output_type": "stream",
     "text": [
      "<class 'pandas.core.frame.DataFrame'>\n",
      "RangeIndex: 8128 entries, 0 to 8127\n",
      "Data columns (total 13 columns):\n",
      " #   Column         Non-Null Count  Dtype  \n",
      "---  ------         --------------  -----  \n",
      " 0   name           8128 non-null   object \n",
      " 1   year           8128 non-null   int64  \n",
      " 2   selling_price  8128 non-null   int64  \n",
      " 3   km_driven      8128 non-null   int64  \n",
      " 4   fuel           8128 non-null   object \n",
      " 5   seller_type    8128 non-null   object \n",
      " 6   transmission   8128 non-null   object \n",
      " 7   owner          8128 non-null   object \n",
      " 8   mileage        7907 non-null   object \n",
      " 9   engine         7907 non-null   object \n",
      " 10  max_power      7913 non-null   object \n",
      " 11  torque         7906 non-null   object \n",
      " 12  seats          7907 non-null   float64\n",
      "dtypes: float64(1), int64(3), object(9)\n",
      "memory usage: 539.8+ KB\n"
     ]
    }
   ],
   "source": [
    "cars.info()"
   ]
  },
  {
   "cell_type": "code",
   "execution_count": 7,
   "metadata": {},
   "outputs": [
    {
     "data": {
      "text/plain": [
       "name               0\n",
       "year               0\n",
       "selling_price      0\n",
       "km_driven          0\n",
       "fuel               0\n",
       "seller_type        0\n",
       "transmission       0\n",
       "owner              0\n",
       "mileage          221\n",
       "engine           221\n",
       "max_power        215\n",
       "torque           222\n",
       "seats            221\n",
       "dtype: int64"
      ]
     },
     "execution_count": 7,
     "metadata": {},
     "output_type": "execute_result"
    }
   ],
   "source": [
    "## Check for NULL values \n",
    "\n",
    "cars.isnull().sum()"
   ]
  },
  {
   "cell_type": "code",
   "execution_count": 8,
   "metadata": {},
   "outputs": [
    {
     "data": {
      "text/plain": [
       "name             0\n",
       "year             0\n",
       "selling_price    0\n",
       "km_driven        0\n",
       "fuel             0\n",
       "seller_type      0\n",
       "transmission     0\n",
       "owner            0\n",
       "mileage          0\n",
       "engine           0\n",
       "max_power        0\n",
       "torque           0\n",
       "seats            0\n",
       "dtype: int64"
      ]
     },
     "execution_count": 8,
     "metadata": {},
     "output_type": "execute_result"
    }
   ],
   "source": [
    "## Drop all NULL values\n",
    "\n",
    "\n",
    "cars = cars.dropna(how='any')\n",
    "\n",
    "cars.isnull().sum()"
   ]
  },
  {
   "cell_type": "code",
   "execution_count": 9,
   "metadata": {},
   "outputs": [
    {
     "data": {
      "text/plain": [
       "(7906, 13)"
      ]
     },
     "execution_count": 9,
     "metadata": {},
     "output_type": "execute_result"
    }
   ],
   "source": [
    "cars.shape"
   ]
  },
  {
   "cell_type": "code",
   "execution_count": 10,
   "metadata": {},
   "outputs": [
    {
     "name": "stdout",
     "output_type": "stream",
     "text": [
      "['190Nm@ 2000rpm', '250Nm@ 1500-2500rpm']\n",
      "[2000, 2500]\n"
     ]
    }
   ],
   "source": [
    "## Edit Torque Column Dtype by removing the strings\n",
    "\n",
    "## Using Regular (re) Expressions\n",
    "\n",
    "torque = cars['torque'].to_list()\n",
    "\n",
    "torque_new = []\n",
    "\n",
    "def extract(x):\n",
    "  for item in x:\n",
    "    res = item.replace(\".\", \"\")\n",
    "    res = res.replace(\",\", \"\")\n",
    "    temp = [int(s) for s in re.findall(r'\\d+', res)]\n",
    "    torque_new.append(max(temp))\n",
    "\n",
    "extract(torque)\n",
    "print(torque[:2])\n",
    "\n",
    "print(torque_new[:2])"
   ]
  },
  {
   "cell_type": "code",
   "execution_count": 59,
   "metadata": {},
   "outputs": [
    {
     "data": {
      "text/html": [
       "<div>\n",
       "<style scoped>\n",
       "    .dataframe tbody tr th:only-of-type {\n",
       "        vertical-align: middle;\n",
       "    }\n",
       "\n",
       "    .dataframe tbody tr th {\n",
       "        vertical-align: top;\n",
       "    }\n",
       "\n",
       "    .dataframe thead th {\n",
       "        text-align: right;\n",
       "    }\n",
       "</style>\n",
       "<table border=\"1\" class=\"dataframe\">\n",
       "  <thead>\n",
       "    <tr style=\"text-align: right;\">\n",
       "      <th></th>\n",
       "      <th>name</th>\n",
       "      <th>year</th>\n",
       "      <th>selling_price</th>\n",
       "      <th>km_driven</th>\n",
       "      <th>fuel</th>\n",
       "      <th>seller_type</th>\n",
       "      <th>transmission</th>\n",
       "      <th>owner</th>\n",
       "      <th>mileage</th>\n",
       "      <th>engine</th>\n",
       "      <th>max_power</th>\n",
       "      <th>torque</th>\n",
       "      <th>seats</th>\n",
       "      <th>torque_new</th>\n",
       "    </tr>\n",
       "  </thead>\n",
       "  <tbody>\n",
       "    <tr>\n",
       "      <th>0</th>\n",
       "      <td>Maruti Swift Dzire VDI</td>\n",
       "      <td>2014</td>\n",
       "      <td>450000</td>\n",
       "      <td>145500</td>\n",
       "      <td>Diesel</td>\n",
       "      <td>Individual</td>\n",
       "      <td>Manual</td>\n",
       "      <td>First Owner</td>\n",
       "      <td>23.4 kmpl</td>\n",
       "      <td>1248 CC</td>\n",
       "      <td>74 bhp</td>\n",
       "      <td>190Nm@ 2000rpm</td>\n",
       "      <td>5.0</td>\n",
       "      <td>2000</td>\n",
       "    </tr>\n",
       "    <tr>\n",
       "      <th>1</th>\n",
       "      <td>Skoda Rapid 1.5 TDI Ambition</td>\n",
       "      <td>2014</td>\n",
       "      <td>370000</td>\n",
       "      <td>120000</td>\n",
       "      <td>Diesel</td>\n",
       "      <td>Individual</td>\n",
       "      <td>Manual</td>\n",
       "      <td>Second Owner</td>\n",
       "      <td>21.14 kmpl</td>\n",
       "      <td>1498 CC</td>\n",
       "      <td>103.52 bhp</td>\n",
       "      <td>250Nm@ 1500-2500rpm</td>\n",
       "      <td>5.0</td>\n",
       "      <td>2500</td>\n",
       "    </tr>\n",
       "  </tbody>\n",
       "</table>\n",
       "</div>"
      ],
      "text/plain": [
       "                           name  year  selling_price  km_driven    fuel  \\\n",
       "0        Maruti Swift Dzire VDI  2014         450000     145500  Diesel   \n",
       "1  Skoda Rapid 1.5 TDI Ambition  2014         370000     120000  Diesel   \n",
       "\n",
       "  seller_type transmission         owner     mileage   engine   max_power  \\\n",
       "0  Individual       Manual   First Owner   23.4 kmpl  1248 CC      74 bhp   \n",
       "1  Individual       Manual  Second Owner  21.14 kmpl  1498 CC  103.52 bhp   \n",
       "\n",
       "                torque  seats  torque_new  \n",
       "0       190Nm@ 2000rpm    5.0        2000  \n",
       "1  250Nm@ 1500-2500rpm    5.0        2500  "
      ]
     },
     "execution_count": 59,
     "metadata": {},
     "output_type": "execute_result"
    }
   ],
   "source": [
    "cars['torque_new'] = torque_new\n",
    "\n",
    "cars.head(2)"
   ]
  },
  {
   "cell_type": "code",
   "execution_count": 60,
   "metadata": {},
   "outputs": [
    {
     "name": "stdout",
     "output_type": "stream",
     "text": [
      "['23.4 kmpl', '21.14 kmpl']\n",
      "[23.4, 21.14]\n"
     ]
    }
   ],
   "source": [
    "## Edit Mileage Column Dtype by removing the strings\n",
    "\n",
    "\n",
    "miles = cars['mileage'].to_list()\n",
    "\n",
    "mileage_new = []\n",
    "def extractmileage(x):\n",
    "  for item in x:\n",
    "    temp = []\n",
    "    try:\n",
    "      for s in item.split(\" \"):\n",
    "        temp.append(float(s))\n",
    "    except:\n",
    "      pass\n",
    "    mileage_new.append(max(temp))\n",
    "\n",
    "extractmileage(miles)\n",
    "print(miles[:2])\n",
    "\n",
    "print(mileage_new[:2])\n"
   ]
  },
  {
   "cell_type": "code",
   "execution_count": 61,
   "metadata": {},
   "outputs": [
    {
     "data": {
      "text/html": [
       "<div>\n",
       "<style scoped>\n",
       "    .dataframe tbody tr th:only-of-type {\n",
       "        vertical-align: middle;\n",
       "    }\n",
       "\n",
       "    .dataframe tbody tr th {\n",
       "        vertical-align: top;\n",
       "    }\n",
       "\n",
       "    .dataframe thead th {\n",
       "        text-align: right;\n",
       "    }\n",
       "</style>\n",
       "<table border=\"1\" class=\"dataframe\">\n",
       "  <thead>\n",
       "    <tr style=\"text-align: right;\">\n",
       "      <th></th>\n",
       "      <th>name</th>\n",
       "      <th>year</th>\n",
       "      <th>selling_price</th>\n",
       "      <th>km_driven</th>\n",
       "      <th>fuel</th>\n",
       "      <th>seller_type</th>\n",
       "      <th>transmission</th>\n",
       "      <th>owner</th>\n",
       "      <th>mileage</th>\n",
       "      <th>engine</th>\n",
       "      <th>max_power</th>\n",
       "      <th>torque</th>\n",
       "      <th>seats</th>\n",
       "      <th>torque_new</th>\n",
       "      <th>mileage_new</th>\n",
       "    </tr>\n",
       "  </thead>\n",
       "  <tbody>\n",
       "    <tr>\n",
       "      <th>0</th>\n",
       "      <td>Maruti Swift Dzire VDI</td>\n",
       "      <td>2014</td>\n",
       "      <td>450000</td>\n",
       "      <td>145500</td>\n",
       "      <td>Diesel</td>\n",
       "      <td>Individual</td>\n",
       "      <td>Manual</td>\n",
       "      <td>First Owner</td>\n",
       "      <td>23.4 kmpl</td>\n",
       "      <td>1248 CC</td>\n",
       "      <td>74 bhp</td>\n",
       "      <td>190Nm@ 2000rpm</td>\n",
       "      <td>5.0</td>\n",
       "      <td>2000</td>\n",
       "      <td>23.40</td>\n",
       "    </tr>\n",
       "    <tr>\n",
       "      <th>1</th>\n",
       "      <td>Skoda Rapid 1.5 TDI Ambition</td>\n",
       "      <td>2014</td>\n",
       "      <td>370000</td>\n",
       "      <td>120000</td>\n",
       "      <td>Diesel</td>\n",
       "      <td>Individual</td>\n",
       "      <td>Manual</td>\n",
       "      <td>Second Owner</td>\n",
       "      <td>21.14 kmpl</td>\n",
       "      <td>1498 CC</td>\n",
       "      <td>103.52 bhp</td>\n",
       "      <td>250Nm@ 1500-2500rpm</td>\n",
       "      <td>5.0</td>\n",
       "      <td>2500</td>\n",
       "      <td>21.14</td>\n",
       "    </tr>\n",
       "  </tbody>\n",
       "</table>\n",
       "</div>"
      ],
      "text/plain": [
       "                           name  year  selling_price  km_driven    fuel  \\\n",
       "0        Maruti Swift Dzire VDI  2014         450000     145500  Diesel   \n",
       "1  Skoda Rapid 1.5 TDI Ambition  2014         370000     120000  Diesel   \n",
       "\n",
       "  seller_type transmission         owner     mileage   engine   max_power  \\\n",
       "0  Individual       Manual   First Owner   23.4 kmpl  1248 CC      74 bhp   \n",
       "1  Individual       Manual  Second Owner  21.14 kmpl  1498 CC  103.52 bhp   \n",
       "\n",
       "                torque  seats  torque_new  mileage_new  \n",
       "0       190Nm@ 2000rpm    5.0        2000        23.40  \n",
       "1  250Nm@ 1500-2500rpm    5.0        2500        21.14  "
      ]
     },
     "execution_count": 61,
     "metadata": {},
     "output_type": "execute_result"
    }
   ],
   "source": [
    "cars['mileage_new'] = mileage_new\n",
    "\n",
    "cars.head(2)"
   ]
  },
  {
   "cell_type": "code",
   "execution_count": 62,
   "metadata": {},
   "outputs": [
    {
     "name": "stdout",
     "output_type": "stream",
     "text": [
      "['1248 CC', '1498 CC']\n",
      "[1248.0, 1498.0]\n"
     ]
    }
   ],
   "source": [
    "## Edit Engine Column Dtype by removing the strings\n",
    "\n",
    "\n",
    "engine = cars['engine'].to_list()\n",
    "\n",
    "engine_new = []\n",
    "def extractEngine(x):\n",
    "  for item in x:\n",
    "    temp = []\n",
    "    try:\n",
    "      for s in item.split(\" \"):\n",
    "        temp.append(float(s))\n",
    "    except:\n",
    "      pass\n",
    "    engine_new.append(max(temp))\n",
    "\n",
    "extractEngine(engine)\n",
    "print(engine[:2])\n",
    "\n",
    "print(engine_new[:2])"
   ]
  },
  {
   "cell_type": "code",
   "execution_count": 63,
   "metadata": {},
   "outputs": [
    {
     "data": {
      "text/html": [
       "<div>\n",
       "<style scoped>\n",
       "    .dataframe tbody tr th:only-of-type {\n",
       "        vertical-align: middle;\n",
       "    }\n",
       "\n",
       "    .dataframe tbody tr th {\n",
       "        vertical-align: top;\n",
       "    }\n",
       "\n",
       "    .dataframe thead th {\n",
       "        text-align: right;\n",
       "    }\n",
       "</style>\n",
       "<table border=\"1\" class=\"dataframe\">\n",
       "  <thead>\n",
       "    <tr style=\"text-align: right;\">\n",
       "      <th></th>\n",
       "      <th>name</th>\n",
       "      <th>year</th>\n",
       "      <th>selling_price</th>\n",
       "      <th>km_driven</th>\n",
       "      <th>fuel</th>\n",
       "      <th>seller_type</th>\n",
       "      <th>transmission</th>\n",
       "      <th>owner</th>\n",
       "      <th>mileage</th>\n",
       "      <th>engine</th>\n",
       "      <th>max_power</th>\n",
       "      <th>torque</th>\n",
       "      <th>seats</th>\n",
       "      <th>torque_new</th>\n",
       "      <th>mileage_new</th>\n",
       "      <th>engine_new</th>\n",
       "    </tr>\n",
       "  </thead>\n",
       "  <tbody>\n",
       "    <tr>\n",
       "      <th>0</th>\n",
       "      <td>Maruti Swift Dzire VDI</td>\n",
       "      <td>2014</td>\n",
       "      <td>450000</td>\n",
       "      <td>145500</td>\n",
       "      <td>Diesel</td>\n",
       "      <td>Individual</td>\n",
       "      <td>Manual</td>\n",
       "      <td>First Owner</td>\n",
       "      <td>23.4 kmpl</td>\n",
       "      <td>1248 CC</td>\n",
       "      <td>74 bhp</td>\n",
       "      <td>190Nm@ 2000rpm</td>\n",
       "      <td>5.0</td>\n",
       "      <td>2000</td>\n",
       "      <td>23.40</td>\n",
       "      <td>1248.0</td>\n",
       "    </tr>\n",
       "    <tr>\n",
       "      <th>1</th>\n",
       "      <td>Skoda Rapid 1.5 TDI Ambition</td>\n",
       "      <td>2014</td>\n",
       "      <td>370000</td>\n",
       "      <td>120000</td>\n",
       "      <td>Diesel</td>\n",
       "      <td>Individual</td>\n",
       "      <td>Manual</td>\n",
       "      <td>Second Owner</td>\n",
       "      <td>21.14 kmpl</td>\n",
       "      <td>1498 CC</td>\n",
       "      <td>103.52 bhp</td>\n",
       "      <td>250Nm@ 1500-2500rpm</td>\n",
       "      <td>5.0</td>\n",
       "      <td>2500</td>\n",
       "      <td>21.14</td>\n",
       "      <td>1498.0</td>\n",
       "    </tr>\n",
       "  </tbody>\n",
       "</table>\n",
       "</div>"
      ],
      "text/plain": [
       "                           name  year  selling_price  km_driven    fuel  \\\n",
       "0        Maruti Swift Dzire VDI  2014         450000     145500  Diesel   \n",
       "1  Skoda Rapid 1.5 TDI Ambition  2014         370000     120000  Diesel   \n",
       "\n",
       "  seller_type transmission         owner     mileage   engine   max_power  \\\n",
       "0  Individual       Manual   First Owner   23.4 kmpl  1248 CC      74 bhp   \n",
       "1  Individual       Manual  Second Owner  21.14 kmpl  1498 CC  103.52 bhp   \n",
       "\n",
       "                torque  seats  torque_new  mileage_new  engine_new  \n",
       "0       190Nm@ 2000rpm    5.0        2000        23.40      1248.0  \n",
       "1  250Nm@ 1500-2500rpm    5.0        2500        21.14      1498.0  "
      ]
     },
     "execution_count": 63,
     "metadata": {},
     "output_type": "execute_result"
    }
   ],
   "source": [
    "cars['engine_new'] = engine_new\n",
    "\n",
    "cars.head(2)"
   ]
  },
  {
   "cell_type": "code",
   "execution_count": 64,
   "metadata": {},
   "outputs": [
    {
     "name": "stdout",
     "output_type": "stream",
     "text": [
      "['74 bhp', '103.52 bhp']\n",
      "[74.0, 103.52]\n"
     ]
    }
   ],
   "source": [
    "## Edit Max_Power Column Dtype by removing the strings\n",
    "\n",
    "\n",
    "power = cars['max_power'].to_list()\n",
    "\n",
    "max_power_new = []\n",
    "def extractpower(x):\n",
    "  for item in x:\n",
    "    temp = []\n",
    "    try:\n",
    "      for s in item.split(\" \"):\n",
    "        temp.append(float(s))\n",
    "    except:\n",
    "      pass\n",
    "    max_power_new.append(max(temp))\n",
    "\n",
    "extractpower(power)\n",
    "print(power[:2])\n",
    "\n",
    "print(max_power_new[:2])\n"
   ]
  },
  {
   "cell_type": "code",
   "execution_count": 65,
   "metadata": {},
   "outputs": [
    {
     "data": {
      "text/html": [
       "<div>\n",
       "<style scoped>\n",
       "    .dataframe tbody tr th:only-of-type {\n",
       "        vertical-align: middle;\n",
       "    }\n",
       "\n",
       "    .dataframe tbody tr th {\n",
       "        vertical-align: top;\n",
       "    }\n",
       "\n",
       "    .dataframe thead th {\n",
       "        text-align: right;\n",
       "    }\n",
       "</style>\n",
       "<table border=\"1\" class=\"dataframe\">\n",
       "  <thead>\n",
       "    <tr style=\"text-align: right;\">\n",
       "      <th></th>\n",
       "      <th>name</th>\n",
       "      <th>year</th>\n",
       "      <th>selling_price</th>\n",
       "      <th>km_driven</th>\n",
       "      <th>fuel</th>\n",
       "      <th>seller_type</th>\n",
       "      <th>transmission</th>\n",
       "      <th>owner</th>\n",
       "      <th>mileage</th>\n",
       "      <th>engine</th>\n",
       "      <th>max_power</th>\n",
       "      <th>torque</th>\n",
       "      <th>seats</th>\n",
       "      <th>torque_new</th>\n",
       "      <th>mileage_new</th>\n",
       "      <th>engine_new</th>\n",
       "      <th>max_power_new</th>\n",
       "    </tr>\n",
       "  </thead>\n",
       "  <tbody>\n",
       "    <tr>\n",
       "      <th>0</th>\n",
       "      <td>Maruti Swift Dzire VDI</td>\n",
       "      <td>2014</td>\n",
       "      <td>450000</td>\n",
       "      <td>145500</td>\n",
       "      <td>Diesel</td>\n",
       "      <td>Individual</td>\n",
       "      <td>Manual</td>\n",
       "      <td>First Owner</td>\n",
       "      <td>23.4 kmpl</td>\n",
       "      <td>1248 CC</td>\n",
       "      <td>74 bhp</td>\n",
       "      <td>190Nm@ 2000rpm</td>\n",
       "      <td>5.0</td>\n",
       "      <td>2000</td>\n",
       "      <td>23.40</td>\n",
       "      <td>1248.0</td>\n",
       "      <td>74.00</td>\n",
       "    </tr>\n",
       "    <tr>\n",
       "      <th>1</th>\n",
       "      <td>Skoda Rapid 1.5 TDI Ambition</td>\n",
       "      <td>2014</td>\n",
       "      <td>370000</td>\n",
       "      <td>120000</td>\n",
       "      <td>Diesel</td>\n",
       "      <td>Individual</td>\n",
       "      <td>Manual</td>\n",
       "      <td>Second Owner</td>\n",
       "      <td>21.14 kmpl</td>\n",
       "      <td>1498 CC</td>\n",
       "      <td>103.52 bhp</td>\n",
       "      <td>250Nm@ 1500-2500rpm</td>\n",
       "      <td>5.0</td>\n",
       "      <td>2500</td>\n",
       "      <td>21.14</td>\n",
       "      <td>1498.0</td>\n",
       "      <td>103.52</td>\n",
       "    </tr>\n",
       "  </tbody>\n",
       "</table>\n",
       "</div>"
      ],
      "text/plain": [
       "                           name  year  selling_price  km_driven    fuel  \\\n",
       "0        Maruti Swift Dzire VDI  2014         450000     145500  Diesel   \n",
       "1  Skoda Rapid 1.5 TDI Ambition  2014         370000     120000  Diesel   \n",
       "\n",
       "  seller_type transmission         owner     mileage   engine   max_power  \\\n",
       "0  Individual       Manual   First Owner   23.4 kmpl  1248 CC      74 bhp   \n",
       "1  Individual       Manual  Second Owner  21.14 kmpl  1498 CC  103.52 bhp   \n",
       "\n",
       "                torque  seats  torque_new  mileage_new  engine_new  \\\n",
       "0       190Nm@ 2000rpm    5.0        2000        23.40      1248.0   \n",
       "1  250Nm@ 1500-2500rpm    5.0        2500        21.14      1498.0   \n",
       "\n",
       "   max_power_new  \n",
       "0          74.00  \n",
       "1         103.52  "
      ]
     },
     "execution_count": 65,
     "metadata": {},
     "output_type": "execute_result"
    }
   ],
   "source": [
    "cars['max_power_new'] = max_power_new\n",
    "\n",
    "cars.head(2)"
   ]
  },
  {
   "cell_type": "code",
   "execution_count": 67,
   "metadata": {},
   "outputs": [
    {
     "data": {
      "text/html": [
       "<div>\n",
       "<style scoped>\n",
       "    .dataframe tbody tr th:only-of-type {\n",
       "        vertical-align: middle;\n",
       "    }\n",
       "\n",
       "    .dataframe tbody tr th {\n",
       "        vertical-align: top;\n",
       "    }\n",
       "\n",
       "    .dataframe thead th {\n",
       "        text-align: right;\n",
       "    }\n",
       "</style>\n",
       "<table border=\"1\" class=\"dataframe\">\n",
       "  <thead>\n",
       "    <tr style=\"text-align: right;\">\n",
       "      <th></th>\n",
       "      <th>name</th>\n",
       "      <th>year</th>\n",
       "      <th>selling_price</th>\n",
       "      <th>km_driven</th>\n",
       "      <th>fuel</th>\n",
       "      <th>seller_type</th>\n",
       "      <th>transmission</th>\n",
       "      <th>owner</th>\n",
       "      <th>seats</th>\n",
       "      <th>torque_new</th>\n",
       "      <th>mileage_new</th>\n",
       "      <th>engine_new</th>\n",
       "      <th>max_power_new</th>\n",
       "    </tr>\n",
       "  </thead>\n",
       "  <tbody>\n",
       "    <tr>\n",
       "      <th>0</th>\n",
       "      <td>Maruti Swift Dzire VDI</td>\n",
       "      <td>2014</td>\n",
       "      <td>450000</td>\n",
       "      <td>145500</td>\n",
       "      <td>Diesel</td>\n",
       "      <td>Individual</td>\n",
       "      <td>Manual</td>\n",
       "      <td>First Owner</td>\n",
       "      <td>5.0</td>\n",
       "      <td>2000</td>\n",
       "      <td>23.40</td>\n",
       "      <td>1248.0</td>\n",
       "      <td>74.00</td>\n",
       "    </tr>\n",
       "    <tr>\n",
       "      <th>1</th>\n",
       "      <td>Skoda Rapid 1.5 TDI Ambition</td>\n",
       "      <td>2014</td>\n",
       "      <td>370000</td>\n",
       "      <td>120000</td>\n",
       "      <td>Diesel</td>\n",
       "      <td>Individual</td>\n",
       "      <td>Manual</td>\n",
       "      <td>Second Owner</td>\n",
       "      <td>5.0</td>\n",
       "      <td>2500</td>\n",
       "      <td>21.14</td>\n",
       "      <td>1498.0</td>\n",
       "      <td>103.52</td>\n",
       "    </tr>\n",
       "    <tr>\n",
       "      <th>2</th>\n",
       "      <td>Honda City 2017-2020 EXi</td>\n",
       "      <td>2006</td>\n",
       "      <td>158000</td>\n",
       "      <td>140000</td>\n",
       "      <td>Petrol</td>\n",
       "      <td>Individual</td>\n",
       "      <td>Manual</td>\n",
       "      <td>Third Owner</td>\n",
       "      <td>5.0</td>\n",
       "      <td>2700</td>\n",
       "      <td>17.70</td>\n",
       "      <td>1497.0</td>\n",
       "      <td>78.00</td>\n",
       "    </tr>\n",
       "    <tr>\n",
       "      <th>3</th>\n",
       "      <td>Hyundai i20 Sportz Diesel</td>\n",
       "      <td>2010</td>\n",
       "      <td>225000</td>\n",
       "      <td>127000</td>\n",
       "      <td>Diesel</td>\n",
       "      <td>Individual</td>\n",
       "      <td>Manual</td>\n",
       "      <td>First Owner</td>\n",
       "      <td>5.0</td>\n",
       "      <td>2750</td>\n",
       "      <td>23.00</td>\n",
       "      <td>1396.0</td>\n",
       "      <td>90.00</td>\n",
       "    </tr>\n",
       "    <tr>\n",
       "      <th>4</th>\n",
       "      <td>Maruti Swift VXI BSIII</td>\n",
       "      <td>2007</td>\n",
       "      <td>130000</td>\n",
       "      <td>120000</td>\n",
       "      <td>Petrol</td>\n",
       "      <td>Individual</td>\n",
       "      <td>Manual</td>\n",
       "      <td>First Owner</td>\n",
       "      <td>5.0</td>\n",
       "      <td>4500</td>\n",
       "      <td>16.10</td>\n",
       "      <td>1298.0</td>\n",
       "      <td>88.20</td>\n",
       "    </tr>\n",
       "  </tbody>\n",
       "</table>\n",
       "</div>"
      ],
      "text/plain": [
       "                           name  year  selling_price  km_driven    fuel  \\\n",
       "0        Maruti Swift Dzire VDI  2014         450000     145500  Diesel   \n",
       "1  Skoda Rapid 1.5 TDI Ambition  2014         370000     120000  Diesel   \n",
       "2      Honda City 2017-2020 EXi  2006         158000     140000  Petrol   \n",
       "3     Hyundai i20 Sportz Diesel  2010         225000     127000  Diesel   \n",
       "4        Maruti Swift VXI BSIII  2007         130000     120000  Petrol   \n",
       "\n",
       "  seller_type transmission         owner  seats  torque_new  mileage_new  \\\n",
       "0  Individual       Manual   First Owner    5.0        2000        23.40   \n",
       "1  Individual       Manual  Second Owner    5.0        2500        21.14   \n",
       "2  Individual       Manual   Third Owner    5.0        2700        17.70   \n",
       "3  Individual       Manual   First Owner    5.0        2750        23.00   \n",
       "4  Individual       Manual   First Owner    5.0        4500        16.10   \n",
       "\n",
       "   engine_new  max_power_new  \n",
       "0      1248.0          74.00  \n",
       "1      1498.0         103.52  \n",
       "2      1497.0          78.00  \n",
       "3      1396.0          90.00  \n",
       "4      1298.0          88.20  "
      ]
     },
     "execution_count": 67,
     "metadata": {},
     "output_type": "execute_result"
    }
   ],
   "source": [
    "### Drop Columns = Mileage, Max_power, Engine, Torque.\n",
    "\n",
    "\n",
    "cars_df = cars.drop(['mileage', 'engine', 'torque', 'max_power'], axis = 1)\n",
    "\n",
    "cars_df.head()\n"
   ]
  },
  {
   "cell_type": "code",
   "execution_count": 68,
   "metadata": {},
   "outputs": [
    {
     "data": {
      "image/png": "[encoded data removed]",
      "text/plain": [
       "<Figure size 504x504 with 2 Axes>"
      ]
     },
     "metadata": {
      "needs_background": "light"
     },
     "output_type": "display_data"
    }
   ],
   "source": [
    "\n",
    "## Visualize Correlation using heatmap. Numerical Column\n",
    "\n",
    "plt.figure(figsize=(7,7))\n",
    "sns.heatmap(cars_df.corr(),annot=True,cmap='viridis')\n",
    "plt.show()\n",
    "\n",
    "\n",
    "### High correlation between Selling_Power and Max_Power_new"
   ]
  },
  {
   "cell_type": "code",
   "execution_count": 69,
   "metadata": {},
   "outputs": [
    {
     "data": {
      "text/plain": [
       "Diesel    4299\n",
       "Petrol    3520\n",
       "CNG         52\n",
       "LPG         35\n",
       "Name: fuel, dtype: int64"
      ]
     },
     "execution_count": 69,
     "metadata": {},
     "output_type": "execute_result"
    }
   ],
   "source": [
    "### Convert Fuel column Dtype to integer.\n",
    "\n",
    "cars_df['fuel'].value_counts()"
   ]
  },
  {
   "cell_type": "code",
   "execution_count": 70,
   "metadata": {},
   "outputs": [],
   "source": [
    "def ref(y):\n",
    "  if y == 'Diesel':\n",
    "    return 1\n",
    "  elif y == 'Petrol':\n",
    "    return -1\n",
    "  else:\n",
    "    return 0\n",
    "\n",
    "cars_df['fuel'] = cars_df['fuel'].map(ref)"
   ]
  },
  {
   "cell_type": "code",
   "execution_count": 71,
   "metadata": {},
   "outputs": [
    {
     "data": {
      "text/plain": [
       "Individual          6563\n",
       "Dealer              1107\n",
       "Trustmark Dealer     236\n",
       "Name: seller_type, dtype: int64"
      ]
     },
     "execution_count": 71,
     "metadata": {},
     "output_type": "execute_result"
    }
   ],
   "source": [
    "\n",
    "### Convert Seller_Type column Dtype to integer.\n",
    "\n",
    "cars_df['seller_type'].value_counts()"
   ]
  },
  {
   "cell_type": "code",
   "execution_count": 72,
   "metadata": {},
   "outputs": [],
   "source": [
    "def ref1(y):\n",
    "  if y == 'Individual':\n",
    "    return 1\n",
    "  elif y == 'Dealer':\n",
    "    return 0\n",
    "  else:\n",
    "    return -1\n",
    "\n",
    "cars_df['seller_type'] = cars_df['seller_type'].map(ref1)"
   ]
  },
  {
   "cell_type": "code",
   "execution_count": 73,
   "metadata": {},
   "outputs": [
    {
     "data": {
      "text/plain": [
       "Manual       6865\n",
       "Automatic    1041\n",
       "Name: transmission, dtype: int64"
      ]
     },
     "execution_count": 73,
     "metadata": {},
     "output_type": "execute_result"
    }
   ],
   "source": [
    "\n",
    "### Convert Transmission column Dtype from object to integer format.\n",
    "\n",
    "cars_df['transmission'].value_counts()"
   ]
  },
  {
   "cell_type": "code",
   "execution_count": 74,
   "metadata": {},
   "outputs": [],
   "source": [
    "def ref2(y):\n",
    "  if y == 'Manual':\n",
    "    return 1\n",
    "  else:\n",
    "    return -1\n",
    "\n",
    "cars_df['transmission'] = cars_df['transmission'].map(ref2)"
   ]
  },
  {
   "cell_type": "code",
   "execution_count": 75,
   "metadata": {},
   "outputs": [
    {
     "data": {
      "text/plain": [
       "First Owner             5215\n",
       "Second Owner            2016\n",
       "Third Owner              510\n",
       "Fourth & Above Owner     160\n",
       "Test Drive Car             5\n",
       "Name: owner, dtype: int64"
      ]
     },
     "execution_count": 75,
     "metadata": {},
     "output_type": "execute_result"
    }
   ],
   "source": [
    "\n",
    "### Convert Owner column Dtype to integer.\n",
    "\n",
    "cars_df['owner'].value_counts()"
   ]
  },
  {
   "cell_type": "code",
   "execution_count": 76,
   "metadata": {},
   "outputs": [],
   "source": [
    "###  Apply OneHot Encoding\n",
    "\n",
    "owners = pd.get_dummies(cars_df['owner'])\n",
    "\n",
    "X = pd.concat([cars_df, owners], axis=1)"
   ]
  },
  {
   "cell_type": "code",
   "execution_count": 77,
   "metadata": {},
   "outputs": [
    {
     "data": {
      "text/html": [
       "<div>\n",
       "<style scoped>\n",
       "    .dataframe tbody tr th:only-of-type {\n",
       "        vertical-align: middle;\n",
       "    }\n",
       "\n",
       "    .dataframe tbody tr th {\n",
       "        vertical-align: top;\n",
       "    }\n",
       "\n",
       "    .dataframe thead th {\n",
       "        text-align: right;\n",
       "    }\n",
       "</style>\n",
       "<table border=\"1\" class=\"dataframe\">\n",
       "  <thead>\n",
       "    <tr style=\"text-align: right;\">\n",
       "      <th></th>\n",
       "      <th>name</th>\n",
       "      <th>year</th>\n",
       "      <th>selling_price</th>\n",
       "      <th>km_driven</th>\n",
       "      <th>fuel</th>\n",
       "      <th>seller_type</th>\n",
       "      <th>transmission</th>\n",
       "      <th>owner</th>\n",
       "      <th>seats</th>\n",
       "      <th>torque_new</th>\n",
       "      <th>mileage_new</th>\n",
       "      <th>engine_new</th>\n",
       "      <th>max_power_new</th>\n",
       "      <th>First Owner</th>\n",
       "      <th>Fourth &amp; Above Owner</th>\n",
       "      <th>Second Owner</th>\n",
       "      <th>Test Drive Car</th>\n",
       "      <th>Third Owner</th>\n",
       "    </tr>\n",
       "  </thead>\n",
       "  <tbody>\n",
       "    <tr>\n",
       "      <th>0</th>\n",
       "      <td>Maruti Swift Dzire VDI</td>\n",
       "      <td>2014</td>\n",
       "      <td>450000</td>\n",
       "      <td>145500</td>\n",
       "      <td>1</td>\n",
       "      <td>1</td>\n",
       "      <td>1</td>\n",
       "      <td>First Owner</td>\n",
       "      <td>5.0</td>\n",
       "      <td>2000</td>\n",
       "      <td>23.40</td>\n",
       "      <td>1248.0</td>\n",
       "      <td>74.00</td>\n",
       "      <td>1</td>\n",
       "      <td>0</td>\n",
       "      <td>0</td>\n",
       "      <td>0</td>\n",
       "      <td>0</td>\n",
       "    </tr>\n",
       "    <tr>\n",
       "      <th>1</th>\n",
       "      <td>Skoda Rapid 1.5 TDI Ambition</td>\n",
       "      <td>2014</td>\n",
       "      <td>370000</td>\n",
       "      <td>120000</td>\n",
       "      <td>1</td>\n",
       "      <td>1</td>\n",
       "      <td>1</td>\n",
       "      <td>Second Owner</td>\n",
       "      <td>5.0</td>\n",
       "      <td>2500</td>\n",
       "      <td>21.14</td>\n",
       "      <td>1498.0</td>\n",
       "      <td>103.52</td>\n",
       "      <td>0</td>\n",
       "      <td>0</td>\n",
       "      <td>1</td>\n",
       "      <td>0</td>\n",
       "      <td>0</td>\n",
       "    </tr>\n",
       "    <tr>\n",
       "      <th>2</th>\n",
       "      <td>Honda City 2017-2020 EXi</td>\n",
       "      <td>2006</td>\n",
       "      <td>158000</td>\n",
       "      <td>140000</td>\n",
       "      <td>-1</td>\n",
       "      <td>1</td>\n",
       "      <td>1</td>\n",
       "      <td>Third Owner</td>\n",
       "      <td>5.0</td>\n",
       "      <td>2700</td>\n",
       "      <td>17.70</td>\n",
       "      <td>1497.0</td>\n",
       "      <td>78.00</td>\n",
       "      <td>0</td>\n",
       "      <td>0</td>\n",
       "      <td>0</td>\n",
       "      <td>0</td>\n",
       "      <td>1</td>\n",
       "    </tr>\n",
       "    <tr>\n",
       "      <th>3</th>\n",
       "      <td>Hyundai i20 Sportz Diesel</td>\n",
       "      <td>2010</td>\n",
       "      <td>225000</td>\n",
       "      <td>127000</td>\n",
       "      <td>1</td>\n",
       "      <td>1</td>\n",
       "      <td>1</td>\n",
       "      <td>First Owner</td>\n",
       "      <td>5.0</td>\n",
       "      <td>2750</td>\n",
       "      <td>23.00</td>\n",
       "      <td>1396.0</td>\n",
       "      <td>90.00</td>\n",
       "      <td>1</td>\n",
       "      <td>0</td>\n",
       "      <td>0</td>\n",
       "      <td>0</td>\n",
       "      <td>0</td>\n",
       "    </tr>\n",
       "    <tr>\n",
       "      <th>4</th>\n",
       "      <td>Maruti Swift VXI BSIII</td>\n",
       "      <td>2007</td>\n",
       "      <td>130000</td>\n",
       "      <td>120000</td>\n",
       "      <td>-1</td>\n",
       "      <td>1</td>\n",
       "      <td>1</td>\n",
       "      <td>First Owner</td>\n",
       "      <td>5.0</td>\n",
       "      <td>4500</td>\n",
       "      <td>16.10</td>\n",
       "      <td>1298.0</td>\n",
       "      <td>88.20</td>\n",
       "      <td>1</td>\n",
       "      <td>0</td>\n",
       "      <td>0</td>\n",
       "      <td>0</td>\n",
       "      <td>0</td>\n",
       "    </tr>\n",
       "  </tbody>\n",
       "</table>\n",
       "</div>"
      ],
      "text/plain": [
       "                           name  year  selling_price  km_driven  fuel  \\\n",
       "0        Maruti Swift Dzire VDI  2014         450000     145500     1   \n",
       "1  Skoda Rapid 1.5 TDI Ambition  2014         370000     120000     1   \n",
       "2      Honda City 2017-2020 EXi  2006         158000     140000    -1   \n",
       "3     Hyundai i20 Sportz Diesel  2010         225000     127000     1   \n",
       "4        Maruti Swift VXI BSIII  2007         130000     120000    -1   \n",
       "\n",
       "   seller_type  transmission         owner  seats  torque_new  mileage_new  \\\n",
       "0            1             1   First Owner    5.0        2000        23.40   \n",
       "1            1             1  Second Owner    5.0        2500        21.14   \n",
       "2            1             1   Third Owner    5.0        2700        17.70   \n",
       "3            1             1   First Owner    5.0        2750        23.00   \n",
       "4            1             1   First Owner    5.0        4500        16.10   \n",
       "\n",
       "   engine_new  max_power_new  First Owner  Fourth & Above Owner  Second Owner  \\\n",
       "0      1248.0          74.00            1                     0             0   \n",
       "1      1498.0         103.52            0                     0             1   \n",
       "2      1497.0          78.00            0                     0             0   \n",
       "3      1396.0          90.00            1                     0             0   \n",
       "4      1298.0          88.20            1                     0             0   \n",
       "\n",
       "   Test Drive Car  Third Owner  \n",
       "0               0            0  \n",
       "1               0            0  \n",
       "2               0            1  \n",
       "3               0            0  \n",
       "4               0            0  "
      ]
     },
     "execution_count": 77,
     "metadata": {},
     "output_type": "execute_result"
    }
   ],
   "source": [
    "X.head()"
   ]
  },
  {
   "cell_type": "code",
   "execution_count": 78,
   "metadata": {},
   "outputs": [],
   "source": [
    "### Split Data into Dependent & Independent\n",
    "\n",
    "Y = X['selling_price']\n",
    "\n",
    "X = X.drop(['selling_price', 'name', 'owner'], axis = 1)\n"
   ]
  },
  {
   "cell_type": "code",
   "execution_count": 125,
   "metadata": {},
   "outputs": [],
   "source": [
    "\n",
    "\n",
    "Xtrain, Xtest, Ytrain, Ytest = train_test_split(X[:3000], Y[:3000], test_size=0.2)\n",
    "\n",
    "## Only 3000 data points are used instead of 7906 because it will take longer training time and space."
   ]
  },
  {
   "cell_type": "code",
   "execution_count": 126,
   "metadata": {},
   "outputs": [],
   "source": [
    "### Using RandomForestRegressor\n",
    "\n",
    "random_model = RandomForestRegressor(n_estimators=300, random_state = 42, n_jobs = -1)"
   ]
  },
  {
   "cell_type": "code",
   "execution_count": 127,
   "metadata": {},
   "outputs": [
    {
     "name": "stdout",
     "output_type": "stream",
     "text": [
      "[ 270289.94333333  480333.33333333  981203.32666667 5150000.\n",
      "  379719.99333333  232719.96        251366.10777778  832529.57666667\n",
      "  371836.40111111  259037.49083333 2000000.          417858.03555556\n",
      "  787629.16666667  612763.04555556  710507.49        254366.53666667\n",
      "  251096.65666667  682963.27333333  216726.60777778  152006.66888889\n",
      "  415776.64333333  553325.55555556  329361.09444444  405370.80444444\n",
      "  623359.70333333  427723.55111111  541999.86        430879.50888889\n",
      " 1064346.66666667  784731.66666667  521789.98333333  338941.66666667\n",
      "  895700.          603603.32333333  545516.66666667  165209.98666667\n",
      "  121621.68        200244.16333333  366496.33333333 1138132.21888889\n",
      "  525726.52        221959.98666667  236872.16666667  148126.66\n",
      "  165625.26666667  307093.27333333  610336.62333333  625650.\n",
      "  355491.08444444  279410.          436604.68555556  386153.27\n",
      "  566383.32333333  308302.73827778  623484.72222222  834266.53333333\n",
      "  146356.61        563669.44444444  588904.16666667  291454.42444444\n",
      "  806473.21666667  346213.32333333 5312066.66666667  421652.48\n",
      " 1052526.65333333  225050.         3551150.          205596.66333333\n",
      "  501489.15388889  516186.11111111  541744.37555556  589281.09111111\n",
      "  779000.          533123.26666667  478068.66333333  616838.04472222\n",
      "  404153.29333333  570244.20444444  333076.66333333  421684.40777778\n",
      "  142839.99333333  361563.27        715266.66666667 2000000.\n",
      "  186891.66666667  839850.83333333  191710.          192997.77111111\n",
      "  585019.996       719189.97        972466.66333333  685626.66666667\n",
      "  220365.55555556  515565.99        319448.33333333  496520.\n",
      "  463659.96333333  600000.          861815.97333333  222549.98333333\n",
      "  139109.99666667  488093.31666667  314863.33333333  224383.32666667\n",
      "  526411.10805556 1028090.          740000.          812183.33333333\n",
      "  503000.          230233.28         64728.8         329649.965\n",
      "  939563.30666667  379009.88666667  200281.11111111  154364.67888889\n",
      "  272335.80333333  527245.83111111  123353.24444444  410404.11666667\n",
      " 1237626.66666667  779000.         1280883.31333333  567893.88888889\n",
      "  249357.76111111  414423.17333333  448491.82        551949.40444444\n",
      "  574316.61666667 2475000.          363856.66666667 1516026.65666667\n",
      "  701750.          141811.11111111  324176.64333333  343599.99333333\n",
      "  301185.41222222  141096.62333333  243575.43777778  192628.87722222\n",
      "  890923.28333333  571378.59        548976.65591799  664861.66666667\n",
      "  675039.99666667 1026726.66666667 1538626.66333333 5150000.\n",
      "  557634.71555556  471816.60333333  121861.66666667  328753.20666667\n",
      "  540097.22222222  709433.33333333  302847.85380952  548976.65591799\n",
      "  610329.99333333  374003.27666667  678435.27777778  340396.63\n",
      "  111781.61111111  273588.92857143  550000.          272063.27\n",
      "  664383.33        235512.61214286  681145.83333333  335753.88555556\n",
      "  823484.16666667  491879.62444444  399866.5         407509.99333333\n",
      "   84410.          533422.22222222  563274.42111111  421633.32333333\n",
      "  237711.65        454073.31        228975.96777778  342736.64333333\n",
      "  624526.38888889  244910.52222222  540287.21888889  527408.28666667\n",
      "  109748.59666667 1402749.99       3800000.          582489.99666667\n",
      "  550000.          707532.75777778  362959.94        471222.10694444\n",
      "  471447.22222222  664656.66666667 4336000.          513223.20955556\n",
      "  991108.33        316516.66666667  805406.66666667  422988.87777778\n",
      "  236288.75        840343.31666667  256059.44111111  908459.97666667\n",
      "  474553.33333333  258036.66        259506.66666667  344889.13666667\n",
      "  250094.44111111  449473.32333333  439599.97        178213.31666667\n",
      "  858848.88888889  507103.33333333  635616.66666667  114656.36333333\n",
      "  675303.25666667  236459.99        238619.99666667  277666.65\n",
      "  179772.5         702264.43111111  412065.54222222  665171.11111111\n",
      "  303193.32        124741.11111111   69751.78666667  538508.81555556\n",
      "  493483.33333333  241526.59666667  583330.55388889  410696.54666667\n",
      "  478649.54222222  348556.63666667  921016.66666667  560703.32666667\n",
      "  132353.33       1929036.66666667  711958.33        450000.\n",
      "  534639.99666667  625000.          164418.84555556  575083.32933333\n",
      "  420569.59666667  267619.95666667  477463.31333333 2250016.62333333\n",
      "  107542.77777778  141157.77111111  145933.31666667  662180.83111111\n",
      "  213995.19222222 5500000.         3200000.          196733.30666667\n",
      "  848179.69666667 1087545.55555556  205497.76111111  259977.77444444\n",
      "  407660.69645238  528288.36634921  173945.53222222  481310.15873016\n",
      "  761529.88095238  830489.98666667 1277796.66666667  324506.64666667\n",
      " 5150000.          456473.23        334650.          438421.44814815\n",
      "  188365.55555556  532511.02        559758.31833333  749983.59444444\n",
      "  421059.99        236700.6975      565259.43777778  484819.94333333\n",
      "  283301.65666667  186939.86        884103.28666667  561127.22055556\n",
      "  500837.21388889  574607.19777778  277383.33333333  569760.\n",
      "  370616.65666667  219209.37444444 1069583.33333333  656806.66666667\n",
      "  558983.33333333  236503.53616162  196917.75777778 1205263.33333333\n",
      "  882723.31         96031.66666667  268236.66        515739.63756349\n",
      " 3397400.          259636.49555556 2682277.56132756  472537.49666667\n",
      "  110572.14555556 2205099.99333333  760589.99666667  625000.\n",
      "  737475.55555556  396909.7         545259.42777778  366501.04777778\n",
      " 2475000.          197666.66666667   97311.66666667  459746.57666667\n",
      "  983563.33333333  189629.99666667  211469.43777778  645000.\n",
      "  600713.33333333 3800000.          758990.         1224140.\n",
      " 5500000.          559443.32333333  540304.99666667  676546.66\n",
      "  562891.58        436294.43472222  675923.31666667  320486.66333333\n",
      "  480981.65666667  302093.31666667  458413.31666667  750000.\n",
      "  225050.          281976.65        593227.15388889  237508.31666667\n",
      "  355841.62        679577.77577778  503000.          721416.08444444\n",
      "  233418.88888889 1475013.33333333  720391.66333333  415086.66333333\n",
      "  685259.99666667  808456.66666667  797261.9047619   213559.98333333\n",
      "  367944.97        320586.66333333 1280440.          191213.25666667\n",
      "  779533.33333333  603532.06349206  146810.47666667  238427.77277778\n",
      "  437861.09472222  329509.40444444  878549.99666667  796142.96\n",
      "  379136.97        603026.66        417782.66        550259.81148148\n",
      "  101989.44444444  781925.55555556 1480400.          268828.88555556\n",
      "  263814.16666667  364243.33333333  190511.11111111  756957.76444444\n",
      "  309693.23333333  154358.86888889  441947.75777778  321553.32666667\n",
      "  682253.33        314444.44444444  225050.          256803.31666667\n",
      "  335320.          223795.54888889  792753.33        196336.66333333\n",
      "  401362.19222222  396298.56555556  273906.52333333  650411.04497354\n",
      "  609103.32         61989.01333333  175803.27333333 1214528.32666667\n",
      "  473049.39444444 2562699.97666667  563608.88555556  263596.58333333\n",
      "  388649.99333333  534661.10805556  610723.05555556  145096.65\n",
      "  690516.66666667  221459.97666667  732473.33333333  195692.0037037\n",
      "  319550.          304656.66        326719.99333333  134240.93111111\n",
      "  216358.73222222  583243.32933333  342433.3         670160.54855556\n",
      "  769333.29333333  404089.99666667  344079.99666667  203910.82\n",
      "  661832.20888889  703170.          251337.72777778  808899.97666667\n",
      "  662386.66        663519.97        686556.65666667  308469.88333333\n",
      "  239201.66        722200.55555556  433223.32333333  227587.77444444\n",
      "  399282.90333333 5150000.          196026.59333333  119252.15333333\n",
      "  240786.65        403879.98666667  258757.46927778  176885.82\n",
      "  577470.          209101.65333333  987983.31333333  927150.\n",
      "  651691.66        555049.80666667   52669.98333333  573693.32333333\n",
      "  594258.88555556  514449.83333333  427146.48666667  123919.92\n",
      "  225050.          209137.20888889  801939.98666667  561786.66\n",
      "  488970.          950170.          659383.57444444  571158.85888889\n",
      "  360051.09444444  165251.66333333  590961.75777778  367651.74603175\n",
      "  304438.32        277535.12444444  595475.55222222  519178.76555556\n",
      " 1165080.          554686.05444444  430668.09666667  150727.65333333\n",
      "  478586.11111111  370406.70079365   60067.54666667  214336.66666667\n",
      "  204033.04555556  731806.66333333  555653.32        600176.62666667\n",
      "  641860.          764870.55555556  898499.54666667  225050.\n",
      "  652680.          578083.61111111  210837.76444444  520938.86888889\n",
      "  586850.55555556  700148.88888889  176895.09666667  835998.69047619\n",
      "  168290.          550000.          492336.66666667  838791.63666667\n",
      "  360403.33        401392.95666667 1036903.33333333  282202.52857143\n",
      "  463204.99833333  105941.11111111  265524.14        542736.58666667\n",
      "  445039.84        657458.88888889  353974.44444444 3800000.\n",
      "  462357.76111111  370458.31        753306.66666667  410399.94333333\n",
      "  360044.99        180770.44111111  297623.31333333  622598.31\n",
      "  787354.92333333 1767136.66666667  323161.66666667 3123383.33333333\n",
      "  432139.98666667 5150000.          740000.          410152.21555556\n",
      "  648139.99388889 5150000.          129274.99333333 1416516.66666667\n",
      "  330100.          685626.66666667  202142.66        191806.37\n",
      "  353244.38777778  305326.65666667  377731.7831746  1774799.99666667\n",
      "  217888.28972222  181596.66666667  260023.88888889   70126.72\n",
      " 3200000.          393121.10111111   72399.99666667  197653.33333333\n",
      "  603566.91444444  254350.          807166.58       2904149.98666667\n",
      "  203791.10111111  266673.32666667  645000.          600000.\n",
      "  108122.20555556  256034.31333333 1197450.         1444526.66666667\n",
      "  766011.65        427641.65666667  156236.66666667  816422.49333333\n",
      "  342180.          455156.55       1945933.33333333  755020.\n",
      "  676614.44444444  515935.82333333  426039.89111111  344342.15222222\n",
      "  487473.23333333 2500683.33333333  351376.65333333  114878.34666667\n",
      "  403019.87666667  265974.70238095  519319.98333333  720204.99666667\n",
      "  336209.99333333  234035.55222222 1156119.99666667  309866.66333333\n",
      "  450000.          900936.63666667  444193.05222222  191649.99333333\n",
      "  436977.88888889  245274.72888889   72058.87555556  221096.66666667\n",
      "  820384.98666667  234708.63079365  588913.32        218103.26\n",
      "  238567.77277778  541890.50222222  900313.33333333  266579.99666667\n",
      "  516327.69111111  441573.33        435536.66666667  326283.19333333]\n"
     ]
    }
   ],
   "source": [
    "### Predict Data\n",
    "\n",
    "random_model.fit(Xtrain, Ytrain)\n",
    "\n",
    "pred = random_model.predict(Xtest)\n",
    "\n",
    "print(pred)\n"
   ]
  },
  {
   "cell_type": "code",
   "execution_count": 128,
   "metadata": {},
   "outputs": [
    {
     "name": "stdout",
     "output_type": "stream",
     "text": [
      "99.01 %\n"
     ]
    }
   ],
   "source": [
    "### Check the accuracy for Train\n",
    "\n",
    "random_model_accuracy = round(random_model.score(Xtrain, Ytrain)*100,2)\n",
    "\n",
    "print(round(random_model_accuracy, 2), '%')"
   ]
  },
  {
   "cell_type": "code",
   "execution_count": 129,
   "metadata": {},
   "outputs": [
    {
     "name": "stdout",
     "output_type": "stream",
     "text": [
      "96.25 %\n"
     ]
    }
   ],
   "source": [
    "### Check the accuracy for Test\n",
    "\n",
    "random_model_accuracy1 = round(random_model.score(Xtest, Ytest)*100,2)\n",
    "\n",
    "print(round(random_model_accuracy1, 2), '%')"
   ]
  },
  {
   "cell_type": "code",
   "execution_count": 130,
   "metadata": {},
   "outputs": [
    {
     "data": {
      "text/plain": [
       "0.960692977139267"
      ]
     },
     "execution_count": 130,
     "metadata": {},
     "output_type": "execute_result"
    }
   ],
   "source": [
    "\n",
    "### Check R Squared Value\n",
    "\n",
    "\n",
    "r2_score(pred, Ytest)"
   ]
  },
  {
   "cell_type": "code",
   "execution_count": 132,
   "metadata": {},
   "outputs": [
    {
     "data": {
      "text/html": [
       "<div>\n",
       "<style scoped>\n",
       "    .dataframe tbody tr th:only-of-type {\n",
       "        vertical-align: middle;\n",
       "    }\n",
       "\n",
       "    .dataframe tbody tr th {\n",
       "        vertical-align: top;\n",
       "    }\n",
       "\n",
       "    .dataframe thead th {\n",
       "        text-align: right;\n",
       "    }\n",
       "</style>\n",
       "<table border=\"1\" class=\"dataframe\">\n",
       "  <thead>\n",
       "    <tr style=\"text-align: right;\">\n",
       "      <th></th>\n",
       "      <th>Actual</th>\n",
       "      <th>Predicted</th>\n",
       "    </tr>\n",
       "  </thead>\n",
       "  <tbody>\n",
       "    <tr>\n",
       "      <th>0</th>\n",
       "      <td>150000.0</td>\n",
       "      <td>2.702899e+05</td>\n",
       "    </tr>\n",
       "    <tr>\n",
       "      <th>1</th>\n",
       "      <td>650000.0</td>\n",
       "      <td>4.803333e+05</td>\n",
       "    </tr>\n",
       "    <tr>\n",
       "      <th>2</th>\n",
       "      <td>950000.0</td>\n",
       "      <td>9.812033e+05</td>\n",
       "    </tr>\n",
       "    <tr>\n",
       "      <th>3</th>\n",
       "      <td>5150000.0</td>\n",
       "      <td>5.150000e+06</td>\n",
       "    </tr>\n",
       "    <tr>\n",
       "      <th>4</th>\n",
       "      <td>300000.0</td>\n",
       "      <td>3.797200e+05</td>\n",
       "    </tr>\n",
       "    <tr>\n",
       "      <th>...</th>\n",
       "      <td>...</td>\n",
       "      <td>...</td>\n",
       "    </tr>\n",
       "    <tr>\n",
       "      <th>595</th>\n",
       "      <td>200000.0</td>\n",
       "      <td>2.665800e+05</td>\n",
       "    </tr>\n",
       "    <tr>\n",
       "      <th>596</th>\n",
       "      <td>500000.0</td>\n",
       "      <td>5.163277e+05</td>\n",
       "    </tr>\n",
       "    <tr>\n",
       "      <th>597</th>\n",
       "      <td>535000.0</td>\n",
       "      <td>4.415733e+05</td>\n",
       "    </tr>\n",
       "    <tr>\n",
       "      <th>598</th>\n",
       "      <td>465000.0</td>\n",
       "      <td>4.355367e+05</td>\n",
       "    </tr>\n",
       "    <tr>\n",
       "      <th>599</th>\n",
       "      <td>300000.0</td>\n",
       "      <td>3.262832e+05</td>\n",
       "    </tr>\n",
       "  </tbody>\n",
       "</table>\n",
       "<p>600 rows × 2 columns</p>\n",
       "</div>"
      ],
      "text/plain": [
       "        Actual     Predicted\n",
       "0     150000.0  2.702899e+05\n",
       "1     650000.0  4.803333e+05\n",
       "2     950000.0  9.812033e+05\n",
       "3    5150000.0  5.150000e+06\n",
       "4     300000.0  3.797200e+05\n",
       "..         ...           ...\n",
       "595   200000.0  2.665800e+05\n",
       "596   500000.0  5.163277e+05\n",
       "597   535000.0  4.415733e+05\n",
       "598   465000.0  4.355367e+05\n",
       "599   300000.0  3.262832e+05\n",
       "\n",
       "[600 rows x 2 columns]"
      ]
     },
     "execution_count": 132,
     "metadata": {},
     "output_type": "execute_result"
    }
   ],
   "source": [
    "### Display Actual and Predicted Data\n",
    "\n",
    "pd.DataFrame(np.c_[Ytest , pred], columns = ['Actual' , 'Predicted'])"
   ]
  },
  {
   "cell_type": "code",
   "execution_count": 133,
   "metadata": {},
   "outputs": [
    {
     "data": {
      "image/png": "[encoded data removed]",
      "text/plain": [
       "<Figure size 432x288 with 1 Axes>"
      ]
     },
     "metadata": {
      "needs_background": "light"
     },
     "output_type": "display_data"
    }
   ],
   "source": [
    "### Visualize Actual & Predicted Data\n",
    "\n",
    "\n",
    "plt.scatter(Ytest, pred)\n",
    "\n",
    "plt.show()"
   ]
  },
  {
   "cell_type": "code",
   "execution_count": 134,
   "metadata": {},
   "outputs": [
    {
     "data": {
      "text/plain": [
       "LinearRegression(copy_X=True, fit_intercept=True, n_jobs=None, normalize=False)"
      ]
     },
     "execution_count": 134,
     "metadata": {},
     "output_type": "execute_result"
    }
   ],
   "source": [
    "### Using Linear Regression Model\n",
    "\n",
    "reg = LinearRegression()\n",
    "\n",
    "reg.fit(Xtrain, Ytrain)"
   ]
  },
  {
   "cell_type": "code",
   "execution_count": 135,
   "metadata": {},
   "outputs": [
    {
     "name": "stdout",
     "output_type": "stream",
     "text": [
      "0.69\n"
     ]
    }
   ],
   "source": [
    "### Training\n",
    "\n",
    "print(round(reg.score(Xtrain, Ytrain), 2))"
   ]
  },
  {
   "cell_type": "code",
   "execution_count": 136,
   "metadata": {},
   "outputs": [
    {
     "name": "stdout",
     "output_type": "stream",
     "text": [
      "0.7\n"
     ]
    }
   ],
   "source": [
    "### Testing\n",
    "\n",
    "print(round(reg.score(Xtest, Ytest), 2))"
   ]
  },
  {
   "cell_type": "markdown",
   "metadata": {},
   "source": [
    "### RandomForestRegressor gives a higher accuracy than Linear Regression"
   ]
  },
  {
   "cell_type": "code",
   "execution_count": 137,
   "metadata": {},
   "outputs": [],
   "source": [
    "# Save the RandomForestRegressor model as a pickle string.\n",
    "\n",
    "import pickle \n",
    "\n",
    "saved_model = pickle.dump(random_model, open('CarSelling.pickle','wb'))"
   ]
  }
 ],
 "metadata": {
  "kernelspec": {
   "display_name": "Python 3",
   "language": "python",
   "name": "python3"
  },
  "language_info": {
   "codemirror_mode": {
    "name": "ipython",
    "version": 3
   },
   "file_extension": ".py",
   "mimetype": "text/x-python",
   "name": "python",
   "nbconvert_exporter": "python",
   "pygments_lexer": "ipython3",
   "version": "3.7.6"
  }
 },
 "nbformat": 4,
 "nbformat_minor": 4
}
