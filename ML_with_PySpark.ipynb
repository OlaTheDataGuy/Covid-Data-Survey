{
  "nbformat": 4,
  "nbformat_minor": 0,
  "metadata": {
    "colab": {
      "name": "ML with PySpark.ipynb",
      "provenance": [],
      "collapsed_sections": []
    },
    "kernelspec": {
      "name": "python3",
      "display_name": "Python 3"
    },
    "language_info": {
      "name": "python"
    }
  },
  "cells": [
    {
      "cell_type": "markdown",
      "source": [
        "## Develop a Text Classification ML Model using PySpark Lib to predict Udemy Subject Category given course title or *text*"
      ],
      "metadata": {
        "id": "JBuNSQqljp2n"
      }
    },
    {
      "cell_type": "code",
      "source": [
        "pip install pyspark"
      ],
      "metadata": {
        "colab": {
          "base_uri": "https://localhost:8080/"
        },
        "id": "S3okVgy-jrgd",
        "outputId": "f16dcd18-c951-4927-8176-3c3ec2f79cb4"
      },
      "execution_count": null,
      "outputs": [
        {
          "output_type": "stream",
          "name": "stdout",
          "text": [
            "Collecting pyspark\n",
            "  Downloading pyspark-3.2.1.tar.gz (281.4 MB)\n",
            "\u001b[K     |████████████████████████████████| 281.4 MB 35 kB/s \n",
            "\u001b[?25hCollecting py4j==0.10.9.3\n",
            "  Downloading py4j-0.10.9.3-py2.py3-none-any.whl (198 kB)\n",
            "\u001b[K     |████████████████████████████████| 198 kB 52.5 MB/s \n",
            "\u001b[?25hBuilding wheels for collected packages: pyspark\n",
            "  Building wheel for pyspark (setup.py) ... \u001b[?25l\u001b[?25hdone\n",
            "  Created wheel for pyspark: filename=pyspark-3.2.1-py2.py3-none-any.whl size=281853642 sha256=9080d528f43a283bd39280052e665447c4e3ae84e39b90f769ce3226a5a66aa1\n",
            "  Stored in directory: /root/.cache/pip/wheels/9f/f5/07/7cd8017084dce4e93e84e92efd1e1d5334db05f2e83bcef74f\n",
            "Successfully built pyspark\n",
            "Installing collected packages: py4j, pyspark\n",
            "Successfully installed py4j-0.10.9.3 pyspark-3.2.1\n"
          ]
        }
      ]
    },
    {
      "cell_type": "code",
      "source": [
        "## Import necessary libraries\n",
        "\n",
        "from pyspark import SparkContext\n",
        "sc = SparkContext(master=\"local[2]\")\n"
      ],
      "metadata": {
        "id": "jWIwmI1bm99e"
      },
      "execution_count": null,
      "outputs": []
    },
    {
      "cell_type": "code",
      "source": [
        "## launch UI\n",
        "sc"
      ],
      "metadata": {
        "colab": {
          "base_uri": "https://localhost:8080/",
          "height": 199
        },
        "id": "fyJbvUUaoIcs",
        "outputId": "0b997746-1a5f-4c67-c532-cbc13ce743dc"
      },
      "execution_count": null,
      "outputs": [
        {
          "output_type": "execute_result",
          "data": {
            "text/html": [
              "\n",
              "        <div>\n",
              "            <p><b>SparkContext</b></p>\n",
              "\n",
              "            <p><a href=\"http://da2038bed7ac:4040\">Spark UI</a></p>\n",
              "\n",
              "            <dl>\n",
              "              <dt>Version</dt>\n",
              "                <dd><code>v3.2.1</code></dd>\n",
              "              <dt>Master</dt>\n",
              "                <dd><code>local[2]</code></dd>\n",
              "              <dt>AppName</dt>\n",
              "                <dd><code>pyspark-shell</code></dd>\n",
              "            </dl>\n",
              "        </div>\n",
              "        "
            ],
            "text/plain": [
              "<SparkContext master=local[2] appName=pyspark-shell>"
            ]
          },
          "metadata": {},
          "execution_count": 7
        }
      ]
    },
    {
      "cell_type": "code",
      "source": [
        "# Create Spark Session\n",
        "\n",
        "from pyspark.sql import SparkSession\n",
        "\n",
        "spark = SparkSession.builder.appName(\"TextClassifierwithPySpark\").getOrCreate()\n"
      ],
      "metadata": {
        "id": "4L0x_wKQocg9"
      },
      "execution_count": null,
      "outputs": []
    },
    {
      "cell_type": "code",
      "source": [
        "## Load Data from googlle drive\n",
        "\n",
        "df = spark.read.csv(\"udemy_courses.csv\",header=True,inferSchema=True)\n",
        "\n"
      ],
      "metadata": {
        "id": "dnofeX-Bjrs_"
      },
      "execution_count": null,
      "outputs": []
    },
    {
      "cell_type": "code",
      "source": [
        "df.show()"
      ],
      "metadata": {
        "colab": {
          "base_uri": "https://localhost:8080/"
        },
        "id": "8ao6ggt6w99q",
        "outputId": "cf6e896c-1610-416f-cf21-fa102a568c62"
      },
      "execution_count": null,
      "outputs": [
        {
          "output_type": "stream",
          "name": "stdout",
          "text": [
            "+---------+--------------------+--------------------+-------+-----+---------------+-----------+------------+------------------+------------------+-------------------+----------------+\n",
            "|course_id|        course_title|                 url|is_paid|price|num_subscribers|num_reviews|num_lectures|             level|  content_duration|published_timestamp|         subject|\n",
            "+---------+--------------------+--------------------+-------+-----+---------------+-----------+------------+------------------+------------------+-------------------+----------------+\n",
            "|  1070968|Ultimate Investme...|https://www.udemy...|   true|  200|           2147|         23|          51|        All Levels|               1.5|2017-01-18 20:58:58|Business Finance|\n",
            "|  1113822|Complete GST Cour...|https://www.udemy...|   true|   75|           2792|        923|         274|        All Levels|              39.0|2017-03-09 16:34:20|Business Finance|\n",
            "|  1006314|Financial Modelin...|https://www.udemy...|   true|   45|           2174|         74|          51|Intermediate Level|               2.5|2016-12-19 19:26:30|Business Finance|\n",
            "|  1210588|Beginner to Pro -...|https://www.udemy...|   true|   95|           2451|         11|          36|        All Levels|               3.0|2017-05-30 20:07:24|Business Finance|\n",
            "|  1011058|How To Maximize Y...|https://www.udemy...|   true|  200|           1276|         45|          26|Intermediate Level|               2.0|2016-12-13 14:57:18|Business Finance|\n",
            "|   192870|Trading Penny Sto...|https://www.udemy...|   true|  150|           9221|        138|          25|        All Levels|               3.0|2014-05-02 15:13:30|Business Finance|\n",
            "|   739964|Investing And Tra...|https://www.udemy...|   true|   65|           1540|        178|          26|    Beginner Level|               1.0|2016-02-21 18:23:12|Business Finance|\n",
            "|   403100|Trading Stock Cha...|https://www.udemy...|   true|   95|           2917|        148|          23|        All Levels|               2.5|2015-01-30 22:13:03|Business Finance|\n",
            "|   476268|Options Trading 3...|https://www.udemy...|   true|  195|           5172|         34|          38|      Expert Level|               2.5|2015-05-28 00:14:03|Business Finance|\n",
            "|  1167710|The Only Investme...|https://www.udemy...|   true|  200|            827|         14|          15|        All Levels|               1.0|2017-04-18 18:13:32|Business Finance|\n",
            "|   592338|Forex Trading Sec...|https://www.udemy...|   true|  200|           4284|         93|          76|        All Levels|               5.0|2015-09-11 16:47:02|Business Finance|\n",
            "|   975046|Trading Options W...|https://www.udemy...|   true|  200|           1380|         42|          17|        All Levels|               1.0|2016-10-18 22:52:31|Business Finance|\n",
            "|   742602|Financial Managem...|https://www.udemy...|   true|   30|           3607|         21|          19|        All Levels|               1.5|2016-02-03 18:04:01|Business Finance|\n",
            "|   794151|Forex Trading Cou...|https://www.udemy...|   true|  195|           4061|         52|          16|        All Levels|               2.0|2016-03-16 15:40:19|Business Finance|\n",
            "|  1196544|Python Algo Tradi...|https://www.udemy...|   true|  200|            294|         19|          42|        All Levels|               7.0|2017-04-28 16:41:44|Business Finance|\n",
            "|   504036|Short Selling: Le...|https://www.udemy...|   true|   75|           2276|        106|          19|Intermediate Level|               1.5|2015-06-22 21:18:35|Business Finance|\n",
            "|   719698|Basic Technical A...|https://www.udemy...|   true|   20|           4919|         79|          16|    Beginner Level|               1.5|2016-01-08 17:21:26|Business Finance|\n",
            "|   564966|The Complete Char...|https://www.udemy...|   true|  200|           2666|        115|          52|        All Levels|               4.0|2015-08-10 21:07:35|Business Finance|\n",
            "|   606928|7 Deadly Mistakes...|https://www.udemy...|   true|   50|           5354|         24|          23|        All Levels|               1.5|2015-09-21 18:10:34|Business Finance|\n",
            "|    58977|Financial Stateme...|https://www.udemy...|   true|   95|           8095|        249|          12|    Beginner Level|0.5833333333333334|2013-06-09 00:21:26|Business Finance|\n",
            "+---------+--------------------+--------------------+-------+-----+---------------+-----------+------------+------------------+------------------+-------------------+----------------+\n",
            "only showing top 20 rows\n",
            "\n"
          ]
        }
      ]
    },
    {
      "cell_type": "code",
      "source": [
        "df.columns"
      ],
      "metadata": {
        "colab": {
          "base_uri": "https://localhost:8080/"
        },
        "id": "b2LbufTCxKbk",
        "outputId": "e8d855a2-70af-429e-cf9c-0980f0841c0f"
      },
      "execution_count": null,
      "outputs": [
        {
          "output_type": "execute_result",
          "data": {
            "text/plain": [
              "['course_id',\n",
              " 'course_title',\n",
              " 'url',\n",
              " 'is_paid',\n",
              " 'price',\n",
              " 'num_subscribers',\n",
              " 'num_reviews',\n",
              " 'num_lectures',\n",
              " 'level',\n",
              " 'content_duration',\n",
              " 'published_timestamp',\n",
              " 'subject']"
            ]
          },
          "metadata": {},
          "execution_count": 22
        }
      ]
    },
    {
      "cell_type": "code",
      "source": [
        "## Select Columns\n",
        "\n",
        "df.select('course_title','subject').show()"
      ],
      "metadata": {
        "colab": {
          "base_uri": "https://localhost:8080/"
        },
        "id": "EgHQnaHuxKTd",
        "outputId": "76ce67c5-3511-42d1-faca-82659ed14fdc"
      },
      "execution_count": null,
      "outputs": [
        {
          "output_type": "stream",
          "name": "stdout",
          "text": [
            "+--------------------+----------------+\n",
            "|        course_title|         subject|\n",
            "+--------------------+----------------+\n",
            "|Ultimate Investme...|Business Finance|\n",
            "|Complete GST Cour...|Business Finance|\n",
            "|Financial Modelin...|Business Finance|\n",
            "|Beginner to Pro -...|Business Finance|\n",
            "|How To Maximize Y...|Business Finance|\n",
            "|Trading Penny Sto...|Business Finance|\n",
            "|Investing And Tra...|Business Finance|\n",
            "|Trading Stock Cha...|Business Finance|\n",
            "|Options Trading 3...|Business Finance|\n",
            "|The Only Investme...|Business Finance|\n",
            "|Forex Trading Sec...|Business Finance|\n",
            "|Trading Options W...|Business Finance|\n",
            "|Financial Managem...|Business Finance|\n",
            "|Forex Trading Cou...|Business Finance|\n",
            "|Python Algo Tradi...|Business Finance|\n",
            "|Short Selling: Le...|Business Finance|\n",
            "|Basic Technical A...|Business Finance|\n",
            "|The Complete Char...|Business Finance|\n",
            "|7 Deadly Mistakes...|Business Finance|\n",
            "|Financial Stateme...|Business Finance|\n",
            "+--------------------+----------------+\n",
            "only showing top 20 rows\n",
            "\n"
          ]
        }
      ]
    },
    {
      "cell_type": "code",
      "source": [
        "df = df.select('course_title','subject')\n",
        "df.show(5)\n"
      ],
      "metadata": {
        "colab": {
          "base_uri": "https://localhost:8080/"
        },
        "id": "DPl4aW0UxKJv",
        "outputId": "368d13d7-6abf-4486-d849-2117b7a6e574"
      },
      "execution_count": null,
      "outputs": [
        {
          "output_type": "stream",
          "name": "stdout",
          "text": [
            "+--------------------+----------------+\n",
            "|        course_title|         subject|\n",
            "+--------------------+----------------+\n",
            "|Ultimate Investme...|Business Finance|\n",
            "|Complete GST Cour...|Business Finance|\n",
            "|Financial Modelin...|Business Finance|\n",
            "|Beginner to Pro -...|Business Finance|\n",
            "|How To Maximize Y...|Business Finance|\n",
            "+--------------------+----------------+\n",
            "only showing top 5 rows\n",
            "\n"
          ]
        }
      ]
    },
    {
      "cell_type": "code",
      "source": [
        "# Value Counts\n",
        "\n",
        "df.groupBy('subject').count().show()\n",
        "\t"
      ],
      "metadata": {
        "colab": {
          "base_uri": "https://localhost:8080/"
        },
        "id": "IU5yDcnYxib9",
        "outputId": "08b38261-7c5c-4e81-c3e2-537de3b685b7"
      },
      "execution_count": null,
      "outputs": [
        {
          "output_type": "stream",
          "name": "stdout",
          "text": [
            "+-------------------+-----+\n",
            "|            subject|count|\n",
            "+-------------------+-----+\n",
            "|               null|    5|\n",
            "|   Business Finance| 1195|\n",
            "|     Graphic Design|  603|\n",
            "|    Web Development| 1200|\n",
            "|Musical Instruments|  680|\n",
            "+-------------------+-----+\n",
            "\n"
          ]
        }
      ]
    },
    {
      "cell_type": "code",
      "source": [
        "# Value Counts via pandas\n",
        "\n",
        "df.toPandas()['subject'].value_counts()\n"
      ],
      "metadata": {
        "colab": {
          "base_uri": "https://localhost:8080/"
        },
        "id": "L5DR4gY_xiZJ",
        "outputId": "07047d1c-b73e-4efd-baf5-319594aef6e6"
      },
      "execution_count": null,
      "outputs": [
        {
          "output_type": "execute_result",
          "data": {
            "text/plain": [
              "Web Development        1200\n",
              "Business Finance       1195\n",
              "Musical Instruments     680\n",
              "Graphic Design          603\n",
              "Name: subject, dtype: int64"
            ]
          },
          "metadata": {},
          "execution_count": 26
        }
      ]
    },
    {
      "cell_type": "code",
      "source": [
        "# Check For Missing Values\n",
        "\n",
        "df.toPandas()['subject'].isnull().sum()\n"
      ],
      "metadata": {
        "colab": {
          "base_uri": "https://localhost:8080/"
        },
        "id": "uQZEAhJ2xiVe",
        "outputId": "ab016637-6dd6-4f12-b390-bed3299c8084"
      },
      "execution_count": null,
      "outputs": [
        {
          "output_type": "execute_result",
          "data": {
            "text/plain": [
              "5"
            ]
          },
          "metadata": {},
          "execution_count": 27
        }
      ]
    },
    {
      "cell_type": "code",
      "source": [
        "# Drop Missing Values\n",
        "\n",
        "df = df.dropna(subset=('subject'))\n"
      ],
      "metadata": {
        "id": "CvKZ0GcPxiSM"
      },
      "execution_count": null,
      "outputs": []
    },
    {
      "cell_type": "code",
      "source": [
        "# Check For Missing Values\n",
        "\n",
        "df.toPandas()['subject'].isnull().sum()\n"
      ],
      "metadata": {
        "colab": {
          "base_uri": "https://localhost:8080/"
        },
        "id": "nzbDSA87xiFN",
        "outputId": "b7796cd5-c860-4aed-81d2-9d3d9b05b505"
      },
      "execution_count": null,
      "outputs": [
        {
          "output_type": "execute_result",
          "data": {
            "text/plain": [
              "0"
            ]
          },
          "metadata": {},
          "execution_count": 29
        }
      ]
    },
    {
      "cell_type": "code",
      "source": [
        "df.show(5)"
      ],
      "metadata": {
        "colab": {
          "base_uri": "https://localhost:8080/"
        },
        "id": "dL_CGtarxiBh",
        "outputId": "4f825d3c-97a5-4371-c5b3-0771d7399470"
      },
      "execution_count": null,
      "outputs": [
        {
          "output_type": "stream",
          "name": "stdout",
          "text": [
            "+--------------------+----------------+\n",
            "|        course_title|         subject|\n",
            "+--------------------+----------------+\n",
            "|Ultimate Investme...|Business Finance|\n",
            "|Complete GST Cour...|Business Finance|\n",
            "|Financial Modelin...|Business Finance|\n",
            "|Beginner to Pro -...|Business Finance|\n",
            "|How To Maximize Y...|Business Finance|\n",
            "+--------------------+----------------+\n",
            "only showing top 5 rows\n",
            "\n"
          ]
        }
      ]
    },
    {
      "cell_type": "code",
      "source": [
        "## Feature Extraction\n",
        "\n",
        "import pyspark.ml.feature\n",
        "#dir(pyspark.ml.feature)\n"
      ],
      "metadata": {
        "id": "-p_Ax0LNyMrx"
      },
      "execution_count": null,
      "outputs": []
    },
    {
      "cell_type": "code",
      "source": [
        "\n",
        "# Load Transformer & Extractor Pkgs\n",
        "\n",
        "from pyspark.ml.feature import Tokenizer,StopWordsRemover,CountVectorizer,IDF\n",
        "from pyspark.ml.feature import StringIndexer\n"
      ],
      "metadata": {
        "id": "LXd8EskiyMiX"
      },
      "execution_count": null,
      "outputs": []
    },
    {
      "cell_type": "code",
      "source": [
        "# Stages For the Pipeline\n",
        "\n",
        "tokenizer = Tokenizer(inputCol='course_title',outputCol='mytokens')\n",
        "\n",
        "stopwords_remover = StopWordsRemover(inputCol='mytokens',outputCol='filtered_tokens')\n",
        "\n",
        "vectorizer = CountVectorizer(inputCol='filtered_tokens',outputCol='rawFeatures')\n",
        "\n",
        "idf = IDF(inputCol='rawFeatures',outputCol='vectorizedFeatures')\n",
        "\n"
      ],
      "metadata": {
        "id": "O8Z2l7r1yMW5"
      },
      "execution_count": null,
      "outputs": []
    },
    {
      "cell_type": "code",
      "source": [
        "# LabelEncoding/LabelIndexing\n",
        "\n",
        "labelEncoder = StringIndexer(inputCol='subject',outputCol='subject_title').fit(df)\n",
        "\n",
        "labelEncoder.transform(df).show(5)\n"
      ],
      "metadata": {
        "colab": {
          "base_uri": "https://localhost:8080/"
        },
        "id": "KYbtu-JcyMK8",
        "outputId": "dbce7d1f-a222-4177-880e-d22a4f42dfb7"
      },
      "execution_count": null,
      "outputs": [
        {
          "output_type": "stream",
          "name": "stdout",
          "text": [
            "+--------------------+----------------+-------------+\n",
            "|        course_title|         subject|subject_title|\n",
            "+--------------------+----------------+-------------+\n",
            "|Ultimate Investme...|Business Finance|          1.0|\n",
            "|Complete GST Cour...|Business Finance|          1.0|\n",
            "|Financial Modelin...|Business Finance|          1.0|\n",
            "|Beginner to Pro -...|Business Finance|          1.0|\n",
            "|How To Maximize Y...|Business Finance|          1.0|\n",
            "+--------------------+----------------+-------------+\n",
            "only showing top 5 rows\n",
            "\n"
          ]
        }
      ]
    },
    {
      "cell_type": "code",
      "source": [
        "labelEncoder.labels"
      ],
      "metadata": {
        "colab": {
          "base_uri": "https://localhost:8080/"
        },
        "id": "W5wAN6KM0YDD",
        "outputId": "6d597215-c4bd-4fae-aeb8-98b47fa16195"
      },
      "execution_count": null,
      "outputs": [
        {
          "output_type": "execute_result",
          "data": {
            "text/plain": [
              "['Web Development',\n",
              " 'Business Finance',\n",
              " 'Musical Instruments',\n",
              " 'Graphic Design']"
            ]
          },
          "metadata": {},
          "execution_count": 35
        }
      ]
    },
    {
      "cell_type": "code",
      "source": [
        "# Dict of Labels\n",
        "\n",
        "label_dict = {'Web Development':0.0,'Business Finance':1.0,\n",
        " 'Musical Instruments':2.0, 'Graphic Design':3.0}\n",
        "df.show()\n"
      ],
      "metadata": {
        "colab": {
          "base_uri": "https://localhost:8080/"
        },
        "id": "oOwMFyMu0X5n",
        "outputId": "12f938c4-8444-4563-b73d-a257a396ae0b"
      },
      "execution_count": null,
      "outputs": [
        {
          "output_type": "stream",
          "name": "stdout",
          "text": [
            "+--------------------+----------------+\n",
            "|        course_title|         subject|\n",
            "+--------------------+----------------+\n",
            "|Ultimate Investme...|Business Finance|\n",
            "|Complete GST Cour...|Business Finance|\n",
            "|Financial Modelin...|Business Finance|\n",
            "|Beginner to Pro -...|Business Finance|\n",
            "|How To Maximize Y...|Business Finance|\n",
            "|Trading Penny Sto...|Business Finance|\n",
            "|Investing And Tra...|Business Finance|\n",
            "|Trading Stock Cha...|Business Finance|\n",
            "|Options Trading 3...|Business Finance|\n",
            "|The Only Investme...|Business Finance|\n",
            "|Forex Trading Sec...|Business Finance|\n",
            "|Trading Options W...|Business Finance|\n",
            "|Financial Managem...|Business Finance|\n",
            "|Forex Trading Cou...|Business Finance|\n",
            "|Python Algo Tradi...|Business Finance|\n",
            "|Short Selling: Le...|Business Finance|\n",
            "|Basic Technical A...|Business Finance|\n",
            "|The Complete Char...|Business Finance|\n",
            "|7 Deadly Mistakes...|Business Finance|\n",
            "|Financial Stateme...|Business Finance|\n",
            "+--------------------+----------------+\n",
            "only showing top 20 rows\n",
            "\n"
          ]
        }
      ]
    },
    {
      "cell_type": "code",
      "source": [
        "\n",
        "df = labelEncoder.transform(df)\n",
        "df.show(5)"
      ],
      "metadata": {
        "colab": {
          "base_uri": "https://localhost:8080/"
        },
        "id": "56ylZHQF0Xwh",
        "outputId": "79c675a0-ead0-435f-b01c-d7686641e5dc"
      },
      "execution_count": null,
      "outputs": [
        {
          "output_type": "stream",
          "name": "stdout",
          "text": [
            "+--------------------+----------------+-------------+\n",
            "|        course_title|         subject|subject_title|\n",
            "+--------------------+----------------+-------------+\n",
            "|Ultimate Investme...|Business Finance|          1.0|\n",
            "|Complete GST Cour...|Business Finance|          1.0|\n",
            "|Financial Modelin...|Business Finance|          1.0|\n",
            "|Beginner to Pro -...|Business Finance|          1.0|\n",
            "|How To Maximize Y...|Business Finance|          1.0|\n",
            "+--------------------+----------------+-------------+\n",
            "only showing top 5 rows\n",
            "\n"
          ]
        }
      ]
    },
    {
      "cell_type": "code",
      "source": [
        "##   Split Data into Dependent & Independent\n",
        "\n",
        "# train is 70, test is 30\n",
        "\n",
        "(traindf, testdf) = df.randomSplit((0.7,0.3),seed=42)\n"
      ],
      "metadata": {
        "id": "_qGnbFvW1Ccz"
      },
      "execution_count": null,
      "outputs": []
    },
    {
      "cell_type": "code",
      "source": [
        "traindf.show()\n"
      ],
      "metadata": {
        "colab": {
          "base_uri": "https://localhost:8080/"
        },
        "id": "iLJ1wsnj1CT8",
        "outputId": "4f5bb8b5-6099-4054-c053-f40e73508a85"
      },
      "execution_count": null,
      "outputs": [
        {
          "output_type": "stream",
          "name": "stdout",
          "text": [
            "+--------------------+-------------------+-------------+\n",
            "|        course_title|            subject|subject_title|\n",
            "+--------------------+-------------------+-------------+\n",
            "|#1 Piano Hand Coo...|Musical Instruments|          2.0|\n",
            "|#10 Hand Coordina...|Musical Instruments|          2.0|\n",
            "|#4 Piano Hand Coo...|Musical Instruments|          2.0|\n",
            "|#5  Piano Hand Co...|Musical Instruments|          2.0|\n",
            "|#6 Piano Hand Coo...|Musical Instruments|          2.0|\n",
            "|'Geometry Of Chan...|   Business Finance|          1.0|\n",
            "|1 - Concepts of S...|   Business Finance|          1.0|\n",
            "|          1 Hour CSS|    Web Development|          0.0|\n",
            "|         1 Hour HTML|    Web Development|          0.0|\n",
            "|10 Numbers Every ...|   Business Finance|          1.0|\n",
            "|10.  Bonds and Bo...|   Business Finance|          1.0|\n",
            "|101 Awesome Rocka...|Musical Instruments|          2.0|\n",
            "|15  Motion Graphi...|     Graphic Design|          3.0|\n",
            "|150 Rock Guitar L...|Musical Instruments|          2.0|\n",
            "|188% Profit in 1Y...|   Business Finance|          1.0|\n",
            "|2 Easy Steps To I...|   Business Finance|          1.0|\n",
            "|2. Principles of ...|   Business Finance|          1.0|\n",
            "|3. Compound Inter...|   Business Finance|          1.0|\n",
            "|31 Day Guitar Cha...|Musical Instruments|          2.0|\n",
            "|4 Easy Daily Fore...|   Business Finance|          1.0|\n",
            "+--------------------+-------------------+-------------+\n",
            "only showing top 20 rows\n",
            "\n"
          ]
        }
      ]
    },
    {
      "cell_type": "code",
      "source": [
        "### Estimator\n",
        "\n",
        "from pyspark.ml.classification import LogisticRegression\n",
        "\n",
        "lr = LogisticRegression(featuresCol='vectorizedFeatures',labelCol='subject_title')\n"
      ],
      "metadata": {
        "id": "NVJC6FWm1CJY"
      },
      "execution_count": 56,
      "outputs": []
    },
    {
      "cell_type": "code",
      "source": [
        "## Build the Pipeline\n",
        "\n",
        "from pyspark.ml import Pipeline\n",
        "\n",
        "pipeline = Pipeline(stages=[tokenizer,stopwords_remover,vectorizer,idf,lr])\n",
        "pipeline\n"
      ],
      "metadata": {
        "colab": {
          "base_uri": "https://localhost:8080/"
        },
        "id": "Q4XriN-T4zWD",
        "outputId": "aedb863f-fce2-4d65-b64e-e73e3f36b843"
      },
      "execution_count": 57,
      "outputs": [
        {
          "output_type": "execute_result",
          "data": {
            "text/plain": [
              "Pipeline_0ceedbba75fd"
            ]
          },
          "metadata": {},
          "execution_count": 57
        }
      ]
    },
    {
      "cell_type": "code",
      "source": [
        "pipeline.stages"
      ],
      "metadata": {
        "colab": {
          "base_uri": "https://localhost:8080/"
        },
        "id": "YOgurSiv4zJ4",
        "outputId": "c7e67480-a6d1-4681-bb73-d4088e0b620d"
      },
      "execution_count": 58,
      "outputs": [
        {
          "output_type": "execute_result",
          "data": {
            "text/plain": [
              "Param(parent='Pipeline_0ceedbba75fd', name='stages', doc='a list of pipeline stages')"
            ]
          },
          "metadata": {},
          "execution_count": 58
        }
      ]
    },
    {
      "cell_type": "code",
      "source": [
        "# Building Model\n",
        "\n",
        "lr_model = pipeline.fit(traindf)\n",
        "lr_model\n"
      ],
      "metadata": {
        "id": "Y7oCm3qw8OQ6",
        "colab": {
          "base_uri": "https://localhost:8080/"
        },
        "outputId": "729bc8fc-eabe-4279-e42f-886da5ebf4e9"
      },
      "execution_count": 59,
      "outputs": [
        {
          "output_type": "execute_result",
          "data": {
            "text/plain": [
              "PipelineModel_8d8343fb45b7"
            ]
          },
          "metadata": {},
          "execution_count": 59
        }
      ]
    },
    {
      "cell_type": "code",
      "source": [
        "# Predictions on Test Dataset\n",
        "\n",
        "predictions = lr_model.transform(testdf)\n",
        "\n",
        "predictions.show()\n"
      ],
      "metadata": {
        "id": "4afj5M7z0Xl8",
        "colab": {
          "base_uri": "https://localhost:8080/"
        },
        "outputId": "677bf185-0b53-41e5-b8d6-eae543a996a5"
      },
      "execution_count": 60,
      "outputs": [
        {
          "output_type": "stream",
          "name": "stdout",
          "text": [
            "+--------------------+-------------------+-------------+--------------------+--------------------+--------------------+--------------------+--------------------+--------------------+----------+\n",
            "|        course_title|            subject|subject_title|            mytokens|     filtered_tokens|         rawFeatures|  vectorizedFeatures|       rawPrediction|         probability|prediction|\n",
            "+--------------------+-------------------+-------------+--------------------+--------------------+--------------------+--------------------+--------------------+--------------------+----------+\n",
            "|#12 Hand Coordina...|Musical Instruments|          2.0|[#12, hand, coord...|[#12, hand, coord...|(3690,[309,505,58...|(3690,[309,505,58...|[-0.7803356051140...|[0.00116065267926...|       2.0|\n",
            "|#7 Piano Hand Coo...|Musical Instruments|          2.0|[#7, piano, hand,...|[#7, piano, hand,...|(3690,[10,12,56,2...|(3690,[10,12,56,2...|[-10.533693339739...|[7.98862638877710...|       2.0|\n",
            "|'Greensleeves' Cr...|Musical Instruments|          2.0|['greensleeves', ...|['greensleeves', ...|(3690,[7,10,50,32...|(3690,[7,10,50,32...|[-5.7345439611759...|[1.57212304722017...|       2.0|\n",
            "|* An Integrated A...|   Business Finance|          1.0|[*, an, integrate...|[*, integrated, a...|(3690,[24,61,390,...|(3690,[24,61,390,...|[-5.2349493174801...|[1.36914708755194...|       1.0|\n",
            "|   1 Hour JavaScript|    Web Development|          0.0|[1, hour, javascr...|[1, hour, javascr...|(3690,[21,39,132]...|(3690,[21,39,132]...|[17.7120642806377...|[0.99999999924164...|       0.0|\n",
            "|       1 hour jQuery|    Web Development|          0.0|   [1, hour, jquery]|   [1, hour, jquery]|(3690,[39,59,132]...|(3690,[39,59,132]...|[11.2290601883984...|[0.99999365403204...|       0.0|\n",
            "|1. Principles of ...|   Business Finance|          1.0|[1., principles, ...|[1., principles, ...|(3690,[94,377,534...|(3690,[94,377,534...|[-3.0896827267654...|[3.77433635185601...|       1.0|\n",
            "|101 Blues riffs -...|Musical Instruments|          2.0|[101, blues, riff...|[101, blues, riff...|(3690,[0,1,47,66,...|(3690,[0,1,47,66,...|[-2.7014052141029...|[1.23310836985434...|       2.0|\n",
            "|15 Mandamientos p...|   Business Finance|          1.0|[15, mandamientos...|[15, mandamientos...|(3690,[83,88,342,...|(3690,[83,88,342,...|[-5.9389807712086...|[2.33313001995582...|       1.0|\n",
            "|16 Guitar Chords ...|Musical Instruments|          2.0|[16, guitar, chor...|[16, guitar, chor...|(3690,[0,6,127],[...|(3690,[0,6,127],[...|[-6.9795373387961...|[5.65329218745557...|       2.0|\n",
            "|17 Complete JavaS...|    Web Development|          0.0|[17, complete, ja...|[17, complete, ja...|(3690,[9,21,43,71...|(3690,[9,21,43,71...|[18.8709393212994...|[0.99999999991803...|       0.0|\n",
            "|3 Little Pigs: A ...|   Business Finance|          1.0|[3, little, pigs:...|[3, little, pigs:...|(3690,[2,15,56,12...|(3690,[2,15,56,12...|[-8.5199978215277...|[1.37075671483153...|       1.0|\n",
            "|3 documentos clav...|   Business Finance|          1.0|[3, documentos, c...|[3, documentos, c...|(3690,[56,83,156,...|(3690,[56,83,156,...|[0.56624258511314...|[0.05149547565775...|       1.0|\n",
            "|3 step formula fo...|Musical Instruments|          2.0|[3, step, formula...|[3, step, formula...|(3690,[6,56,77,14...|(3690,[6,56,77,14...|[-5.5514342832927...|[6.56749988468645...|       2.0|\n",
            "|30 Day Guitar Jum...|Musical Instruments|          2.0|[30, day, guitar,...|[30, day, guitar,...|(3690,[6,68,112,1...|(3690,[6,68,112,1...|[-6.2642152670737...|[4.52858620215604...|       2.0|\n",
            "|3D Programming wi...|    Web Development|          0.0|[3d, programming,...|[3d, programming,...|(3690,[4,109,263]...|(3690,[4,109,263]...|[5.86790714444285...|[0.96115083935613...|       0.0|\n",
            "|3DS MAX - Learn 3...|     Graphic Design|          3.0|[3ds, max, -, lea...|[3ds, max, -, lea...|(3690,[0,1,4,118,...|(3690,[0,1,4,118,...|[15.7210239048602...|[0.99999997477004...|       0.0|\n",
            "|48 Logo Designs a...|     Graphic Design|          3.0|[48, logo, design...|[48, logo, design...|(3690,[54,135,431...|(3690,[54,135,431...|[-10.802264576660...|[4.73409028883147...|       3.0|\n",
            "|6 Must Know Trick...|Musical Instruments|          2.0|[6, must, know, t...|[6, must, know, t...|(3690,[155,271,28...|(3690,[155,271,28...|[7.38849138679897...|[0.99749315189352...|       0.0|\n",
            "|6. Annuities Due ...|   Business Finance|          1.0|[6., annuities, d...|[6., annuities, d...|        (3690,[],[])|        (3690,[],[])|[2.72787707103312...|[0.77114198143283...|       0.0|\n",
            "+--------------------+-------------------+-------------+--------------------+--------------------+--------------------+--------------------+--------------------+--------------------+----------+\n",
            "only showing top 20 rows\n",
            "\n"
          ]
        }
      ]
    },
    {
      "cell_type": "code",
      "source": [
        "# Select Columns\n",
        "\n",
        "predictions.columns\n",
        "\n",
        "predictions.select('rawPrediction','probability','subject','subject_title','prediction').show(10)\n"
      ],
      "metadata": {
        "id": "_UUGn_pPyL9v",
        "colab": {
          "base_uri": "https://localhost:8080/"
        },
        "outputId": "3eab3982-e14b-4e01-e780-68ec02781a5d"
      },
      "execution_count": 62,
      "outputs": [
        {
          "output_type": "stream",
          "name": "stdout",
          "text": [
            "+--------------------+--------------------+-------------------+-------------+----------+\n",
            "|       rawPrediction|         probability|            subject|subject_title|prediction|\n",
            "+--------------------+--------------------+-------------------+-------------+----------+\n",
            "|[-0.7803356051140...|[0.00116065267926...|Musical Instruments|          2.0|       2.0|\n",
            "|[-10.533693339739...|[7.98862638877710...|Musical Instruments|          2.0|       2.0|\n",
            "|[-5.7345439611759...|[1.57212304722017...|Musical Instruments|          2.0|       2.0|\n",
            "|[-5.2349493174801...|[1.36914708755194...|   Business Finance|          1.0|       1.0|\n",
            "|[17.7120642806377...|[0.99999999924164...|    Web Development|          0.0|       0.0|\n",
            "|[11.2290601883984...|[0.99999365403204...|    Web Development|          0.0|       0.0|\n",
            "|[-3.0896827267654...|[3.77433635185601...|   Business Finance|          1.0|       1.0|\n",
            "|[-2.7014052141029...|[1.23310836985434...|Musical Instruments|          2.0|       2.0|\n",
            "|[-5.9389807712086...|[2.33313001995582...|   Business Finance|          1.0|       1.0|\n",
            "|[-6.9795373387961...|[5.65329218745557...|Musical Instruments|          2.0|       2.0|\n",
            "+--------------------+--------------------+-------------------+-------------+----------+\n",
            "only showing top 10 rows\n",
            "\n"
          ]
        }
      ]
    },
    {
      "cell_type": "code",
      "source": [
        "### Model Evaluation\n",
        "\n",
        "# Accuracy\n",
        "# Precision\n",
        "# F1score\n",
        "\n",
        "from pyspark.ml.evaluation import MulticlassClassificationEvaluator\n",
        "\n",
        "evaluator = MulticlassClassificationEvaluator(labelCol='subject_title',predictionCol='prediction',metricName='accuracy')\n",
        "\n",
        "accuracy = evaluator.evaluate(predictions)\n",
        "accuracy\n"
      ],
      "metadata": {
        "id": "SoUnTIQ271_Y",
        "colab": {
          "base_uri": "https://localhost:8080/"
        },
        "outputId": "eb95c2b7-e776-43b1-ebdd-953abfa1689b"
      },
      "execution_count": 64,
      "outputs": [
        {
          "output_type": "execute_result",
          "data": {
            "text/plain": [
              "0.9171428571428571"
            ]
          },
          "metadata": {},
          "execution_count": 64
        }
      ]
    },
    {
      "cell_type": "code",
      "source": [
        "#### Method 2: Precision. F1Score (Classification Report)\n",
        "\n",
        "from pyspark.mllib.evaluation import MulticlassMetrics\n",
        "\n",
        "lr_metric = MulticlassMetrics(predictions['subject_title','prediction'].rdd)\n",
        "\n",
        "print(\"Accuracy:\",lr_metric.accuracy)\n",
        "print(\"Precision:\",lr_metric.precision(1.0))\n",
        "print(\"Recall:\",lr_metric.recall(1.0))\n",
        "print(\"F1Score:\",lr_metric.fMeasure(1.0))\n"
      ],
      "metadata": {
        "id": "-H10PBhF71ob",
        "colab": {
          "base_uri": "https://localhost:8080/"
        },
        "outputId": "a5ccca3e-fb79-4bea-eeb7-f1246059e8f5"
      },
      "execution_count": 65,
      "outputs": [
        {
          "output_type": "stream",
          "name": "stderr",
          "text": [
            "/usr/local/lib/python3.7/dist-packages/pyspark/sql/context.py:127: FutureWarning: Deprecated in 3.0.0. Use SparkSession.builder.getOrCreate() instead.\n",
            "  FutureWarning\n"
          ]
        },
        {
          "output_type": "stream",
          "name": "stdout",
          "text": [
            "Accuracy: 0.9171428571428571\n",
            "Precision: 0.9036827195467422\n",
            "Recall: 0.9327485380116959\n",
            "F1Score: 0.9179856115107914\n"
          ]
        }
      ]
    },
    {
      "cell_type": "code",
      "source": [
        "##  Confusion Matrix to Evaluate model\n",
        "\n",
        "y_true = predictions.select('subject_title')\n",
        "y_true = y_true.toPandas()\n",
        "y_pred = predictions.select('prediction')\n",
        "y_pred = y_pred.toPandas()\n",
        "\n",
        "from sklearn.metrics import confusion_matrix,classification_report\n",
        "cm = confusion_matrix(y_true,y_pred)\n",
        "cm\n"
      ],
      "metadata": {
        "id": "1djlRb5z71gX",
        "colab": {
          "base_uri": "https://localhost:8080/"
        },
        "outputId": "1005d5e2-d08f-465d-d886-48ed2abb5312"
      },
      "execution_count": 66,
      "outputs": [
        {
          "output_type": "execute_result",
          "data": {
            "text/plain": [
              "array([[332,   7,   1,   4],\n",
              "       [ 29, 319,   1,   4],\n",
              "       [  4,   6, 165,   2],\n",
              "       [ 15,  10,   4, 147]])"
            ]
          },
          "metadata": {},
          "execution_count": 66
        }
      ]
    },
    {
      "cell_type": "code",
      "source": [
        "import matplotlib.pyplot as plt\n",
        "import numpy as np\n",
        "import itertools\n",
        "\n",
        "def plot_confusion_matrix(cm, classes,\n",
        "                          normalize=False,\n",
        "                          title='Confusion matrix',\n",
        "                          cmap=plt.cm.Blues):\n",
        "    \n",
        "    if normalize:\n",
        "        cm = cm.astype('float') / cm.sum(axis=1)[:, np.newaxis]\n",
        "        print(\"Normalized confusion matrix\")\n",
        "    else:\n",
        "        print('Confusion matrix, without normalization')\n",
        "\n",
        "    print(cm)\n",
        "\n"
      ],
      "metadata": {
        "id": "LNTzxlz271Xe"
      },
      "execution_count": 67,
      "outputs": []
    },
    {
      "cell_type": "code",
      "source": [
        "\n",
        "class_names = ['Web Development', 'Business Finance', 'Musical Instruments', 'Graphic Design','N4','N5']\n",
        "\n"
      ],
      "metadata": {
        "id": "3Ik9ZDYo71Nn"
      },
      "execution_count": 77,
      "outputs": []
    },
    {
      "cell_type": "code",
      "source": [
        "# Classication Report\n",
        "\n",
        "print(classification_report(y_true,y_pred))\n"
      ],
      "metadata": {
        "colab": {
          "base_uri": "https://localhost:8080/"
        },
        "id": "xNUsseYQMXaD",
        "outputId": "bd326b70-a52b-406a-c99a-8544a37543f6"
      },
      "execution_count": 73,
      "outputs": [
        {
          "output_type": "stream",
          "name": "stdout",
          "text": [
            "              precision    recall  f1-score   support\n",
            "\n",
            "         0.0       0.87      0.97      0.92       344\n",
            "         1.0       0.93      0.90      0.92       353\n",
            "         2.0       0.96      0.93      0.95       177\n",
            "         3.0       0.94      0.84      0.88       176\n",
            "\n",
            "    accuracy                           0.92      1050\n",
            "   macro avg       0.93      0.91      0.92      1050\n",
            "weighted avg       0.92      0.92      0.92      1050\n",
            "\n"
          ]
        }
      ]
    },
    {
      "cell_type": "code",
      "source": [
        "class_temp = predictions.select(\"subject_title\").groupBy(\"subject_title\")\\\n",
        "                        .count().sort('count', ascending=False).toPandas()\n",
        "class_temp = class_temp[\"subject_title\"].values.tolist()\n",
        "class_names = map(str, class_temp)\n"
      ],
      "metadata": {
        "id": "R8suwQ7SMXOi"
      },
      "execution_count": 80,
      "outputs": []
    },
    {
      "cell_type": "code",
      "source": [
        "# # # print(class_name)\n",
        "class_names\n"
      ],
      "metadata": {
        "colab": {
          "base_uri": "https://localhost:8080/"
        },
        "id": "elAsin3CMXGo",
        "outputId": "5d062309-978f-4174-9b22-02424c39d198"
      },
      "execution_count": 81,
      "outputs": [
        {
          "output_type": "execute_result",
          "data": {
            "text/plain": [
              "<map at 0x7f04ecfb3f10>"
            ]
          },
          "metadata": {},
          "execution_count": 81
        }
      ]
    },
    {
      "cell_type": "code",
      "source": [
        "###  Making Single Prediction\n",
        "\n",
        "from pyspark.sql.types import StringType\n",
        "\n",
        "ex1 = spark.createDataFrame([\n",
        "    (\"Building Machine Learning Apps with Python and PySpark\",StringType())\n",
        "],\n",
        "\n",
        "# Column Name\n",
        "[\"course_title\"]\n",
        "\n",
        ")\n",
        "ex1.show()\n"
      ],
      "metadata": {
        "colab": {
          "base_uri": "https://localhost:8080/"
        },
        "id": "YyyVy812MXCL",
        "outputId": "f1776d0f-8745-4209-bb8a-2f63638edbf1"
      },
      "execution_count": 85,
      "outputs": [
        {
          "output_type": "stream",
          "name": "stdout",
          "text": [
            "+--------------------+---+\n",
            "|        course_title| _2|\n",
            "+--------------------+---+\n",
            "|Building Machine ...| {}|\n",
            "+--------------------+---+\n",
            "\n"
          ]
        }
      ]
    },
    {
      "cell_type": "code",
      "source": [
        "# Show Full \n",
        "ex1.show(truncate=False)\n"
      ],
      "metadata": {
        "colab": {
          "base_uri": "https://localhost:8080/"
        },
        "id": "68adTXjtMW9N",
        "outputId": "6a28bc04-9974-42d7-f2ab-8aa749fb8379"
      },
      "execution_count": 86,
      "outputs": [
        {
          "output_type": "stream",
          "name": "stdout",
          "text": [
            "+------------------------------------------------------+---+\n",
            "|course_title                                          |_2 |\n",
            "+------------------------------------------------------+---+\n",
            "|Building Machine Learning Apps with Python and PySpark|{} |\n",
            "+------------------------------------------------------+---+\n",
            "\n"
          ]
        }
      ]
    },
    {
      "cell_type": "code",
      "source": [
        "# Predict\n",
        "\n",
        "pred_ex1 = lr_model.transform(ex1)\n",
        "pred_ex1.show()\n"
      ],
      "metadata": {
        "colab": {
          "base_uri": "https://localhost:8080/"
        },
        "id": "Dy6bMcgQOiMQ",
        "outputId": "794637d8-b9d0-4c28-f4f2-e105bbd54fc8"
      },
      "execution_count": 87,
      "outputs": [
        {
          "output_type": "stream",
          "name": "stdout",
          "text": [
            "+--------------------+---+--------------------+--------------------+--------------------+--------------------+--------------------+--------------------+----------+\n",
            "|        course_title| _2|            mytokens|     filtered_tokens|         rawFeatures|  vectorizedFeatures|       rawPrediction|         probability|prediction|\n",
            "+--------------------+---+--------------------+--------------------+--------------------+--------------------+--------------------+--------------------+----------+\n",
            "|Building Machine ...| {}|[building, machin...|[building, machin...|(3690,[53,74,85,1...|(3690,[53,74,85,1...|[12.2139940216172...|[0.99999904837362...|       0.0|\n",
            "+--------------------+---+--------------------+--------------------+--------------------+--------------------+--------------------+--------------------+----------+\n",
            "\n"
          ]
        }
      ]
    },
    {
      "cell_type": "code",
      "source": [
        "pred_ex1.columns"
      ],
      "metadata": {
        "colab": {
          "base_uri": "https://localhost:8080/"
        },
        "id": "Dvahs6dYOuJ5",
        "outputId": "c7fd1a23-fde5-4993-90fd-3a37195b35c3"
      },
      "execution_count": 88,
      "outputs": [
        {
          "output_type": "execute_result",
          "data": {
            "text/plain": [
              "['course_title',\n",
              " '_2',\n",
              " 'mytokens',\n",
              " 'filtered_tokens',\n",
              " 'rawFeatures',\n",
              " 'vectorizedFeatures',\n",
              " 'rawPrediction',\n",
              " 'probability',\n",
              " 'prediction']"
            ]
          },
          "metadata": {},
          "execution_count": 88
        }
      ]
    },
    {
      "cell_type": "code",
      "source": [
        "\n",
        "\n",
        "pred_ex1.select('course_title','rawPrediction','probability','prediction').show()"
      ],
      "metadata": {
        "colab": {
          "base_uri": "https://localhost:8080/"
        },
        "id": "flt0cDTXOh-9",
        "outputId": "be4cf70f-3cb5-43f1-ea15-2faa812f2a22"
      },
      "execution_count": 89,
      "outputs": [
        {
          "output_type": "stream",
          "name": "stdout",
          "text": [
            "+--------------------+--------------------+--------------------+----------+\n",
            "|        course_title|       rawPrediction|         probability|prediction|\n",
            "+--------------------+--------------------+--------------------+----------+\n",
            "|Building Machine ...|[12.2139940216172...|[0.99999904837362...|       0.0|\n",
            "+--------------------+--------------------+--------------------+----------+\n",
            "\n"
          ]
        }
      ]
    },
    {
      "cell_type": "code",
      "source": [
        "\n",
        "# Saving Model\n",
        "\n",
        "model = \"models/pyspark_lr_model\"\n",
        "lr_model.save(model)\n"
      ],
      "metadata": {
        "id": "17yoEXYFOhty"
      },
      "execution_count": 91,
      "outputs": []
    },
    {
      "cell_type": "code",
      "source": [
        "# Loading pickled model via pipeline api\n",
        "\n",
        "from pyspark.ml.pipeline import PipelineModel\n",
        "df_model = PipelineModel.load(model)\n"
      ],
      "metadata": {
        "id": "ZsS9TIUSOhme"
      },
      "execution_count": 92,
      "outputs": []
    },
    {
      "cell_type": "code",
      "source": [
        ""
      ],
      "metadata": {
        "id": "Aar7RyPpOhdm"
      },
      "execution_count": null,
      "outputs": []
    },
    {
      "cell_type": "code",
      "source": [
        ""
      ],
      "metadata": {
        "id": "kX8kYEOvOhTf"
      },
      "execution_count": null,
      "outputs": []
    },
    {
      "cell_type": "code",
      "source": [
        ""
      ],
      "metadata": {
        "id": "fEcAzyF9OhJ2"
      },
      "execution_count": null,
      "outputs": []
    }
  ]
}