{
 "cells": [
  {
   "cell_type": "code",
   "execution_count": null,
   "metadata": {},
   "outputs": [],
   "source": [
    "### Gold Price Prediction using ML"
   ]
  },
  {
   "cell_type": "code",
   "execution_count": null,
   "metadata": {},
   "outputs": [],
   "source": []
  },
  {
   "cell_type": "code",
   "execution_count": null,
   "metadata": {},
   "outputs": [],
   "source": [
    "### Import Libraries"
   ]
  },
  {
   "cell_type": "code",
   "execution_count": 38,
   "metadata": {},
   "outputs": [],
   "source": [
    "import numpy as np\n",
    "import pandas as pd\n",
    "import matplotlib.pyplot as plt\n",
    "import seaborn as sns\n",
    "from sklearn.model_selection import train_test_split\n",
    "from sklearn.ensemble import RandomForestRegressor\n",
    "from sklearn import metrics"
   ]
  },
  {
   "cell_type": "code",
   "execution_count": null,
   "metadata": {},
   "outputs": [],
   "source": [
    "### Load Data"
   ]
  },
  {
   "cell_type": "code",
   "execution_count": 39,
   "metadata": {},
   "outputs": [
    {
     "data": {
      "text/html": [
       "<div>\n",
       "<style scoped>\n",
       "    .dataframe tbody tr th:only-of-type {\n",
       "        vertical-align: middle;\n",
       "    }\n",
       "\n",
       "    .dataframe tbody tr th {\n",
       "        vertical-align: top;\n",
       "    }\n",
       "\n",
       "    .dataframe thead th {\n",
       "        text-align: right;\n",
       "    }\n",
       "</style>\n",
       "<table border=\"1\" class=\"dataframe\">\n",
       "  <thead>\n",
       "    <tr style=\"text-align: right;\">\n",
       "      <th></th>\n",
       "      <th>Date</th>\n",
       "      <th>SPX</th>\n",
       "      <th>GLD</th>\n",
       "      <th>USO</th>\n",
       "      <th>SLV</th>\n",
       "      <th>EUR/USD</th>\n",
       "    </tr>\n",
       "  </thead>\n",
       "  <tbody>\n",
       "    <tr>\n",
       "      <th>0</th>\n",
       "      <td>1/2/2008</td>\n",
       "      <td>1447.160034</td>\n",
       "      <td>84.860001</td>\n",
       "      <td>78.470001</td>\n",
       "      <td>15.180</td>\n",
       "      <td>1.471692</td>\n",
       "    </tr>\n",
       "    <tr>\n",
       "      <th>1</th>\n",
       "      <td>1/3/2008</td>\n",
       "      <td>1447.160034</td>\n",
       "      <td>85.570000</td>\n",
       "      <td>78.370003</td>\n",
       "      <td>15.285</td>\n",
       "      <td>1.474491</td>\n",
       "    </tr>\n",
       "    <tr>\n",
       "      <th>2</th>\n",
       "      <td>1/4/2008</td>\n",
       "      <td>1411.630005</td>\n",
       "      <td>85.129997</td>\n",
       "      <td>77.309998</td>\n",
       "      <td>15.167</td>\n",
       "      <td>1.475492</td>\n",
       "    </tr>\n",
       "    <tr>\n",
       "      <th>3</th>\n",
       "      <td>1/7/2008</td>\n",
       "      <td>1416.180054</td>\n",
       "      <td>84.769997</td>\n",
       "      <td>75.500000</td>\n",
       "      <td>15.053</td>\n",
       "      <td>1.468299</td>\n",
       "    </tr>\n",
       "    <tr>\n",
       "      <th>4</th>\n",
       "      <td>1/8/2008</td>\n",
       "      <td>1390.189941</td>\n",
       "      <td>86.779999</td>\n",
       "      <td>76.059998</td>\n",
       "      <td>15.590</td>\n",
       "      <td>1.557099</td>\n",
       "    </tr>\n",
       "  </tbody>\n",
       "</table>\n",
       "</div>"
      ],
      "text/plain": [
       "       Date          SPX        GLD        USO     SLV   EUR/USD\n",
       "0  1/2/2008  1447.160034  84.860001  78.470001  15.180  1.471692\n",
       "1  1/3/2008  1447.160034  85.570000  78.370003  15.285  1.474491\n",
       "2  1/4/2008  1411.630005  85.129997  77.309998  15.167  1.475492\n",
       "3  1/7/2008  1416.180054  84.769997  75.500000  15.053  1.468299\n",
       "4  1/8/2008  1390.189941  86.779999  76.059998  15.590  1.557099"
      ]
     },
     "execution_count": 39,
     "metadata": {},
     "output_type": "execute_result"
    }
   ],
   "source": [
    "df = pd.read_csv('gold_price_data.csv')\n",
    "\n",
    "df.head()"
   ]
  },
  {
   "cell_type": "code",
   "execution_count": null,
   "metadata": {},
   "outputs": [],
   "source": [
    "### Perform EDA"
   ]
  },
  {
   "cell_type": "code",
   "execution_count": 4,
   "metadata": {},
   "outputs": [
    {
     "data": {
      "text/plain": [
       "(2290, 6)"
      ]
     },
     "execution_count": 4,
     "metadata": {},
     "output_type": "execute_result"
    }
   ],
   "source": [
    "df.shape"
   ]
  },
  {
   "cell_type": "code",
   "execution_count": 5,
   "metadata": {},
   "outputs": [
    {
     "name": "stdout",
     "output_type": "stream",
     "text": [
      "<class 'pandas.core.frame.DataFrame'>\n",
      "RangeIndex: 2290 entries, 0 to 2289\n",
      "Data columns (total 6 columns):\n",
      " #   Column   Non-Null Count  Dtype  \n",
      "---  ------   --------------  -----  \n",
      " 0   Date     2290 non-null   object \n",
      " 1   SPX      2290 non-null   float64\n",
      " 2   GLD      2290 non-null   float64\n",
      " 3   USO      2290 non-null   float64\n",
      " 4   SLV      2290 non-null   float64\n",
      " 5   EUR/USD  2290 non-null   float64\n",
      "dtypes: float64(5), object(1)\n",
      "memory usage: 98.5+ KB\n"
     ]
    }
   ],
   "source": [
    "df.info()"
   ]
  },
  {
   "cell_type": "code",
   "execution_count": 6,
   "metadata": {},
   "outputs": [
    {
     "data": {
      "text/html": [
       "<div>\n",
       "<style scoped>\n",
       "    .dataframe tbody tr th:only-of-type {\n",
       "        vertical-align: middle;\n",
       "    }\n",
       "\n",
       "    .dataframe tbody tr th {\n",
       "        vertical-align: top;\n",
       "    }\n",
       "\n",
       "    .dataframe thead th {\n",
       "        text-align: right;\n",
       "    }\n",
       "</style>\n",
       "<table border=\"1\" class=\"dataframe\">\n",
       "  <thead>\n",
       "    <tr style=\"text-align: right;\">\n",
       "      <th></th>\n",
       "      <th>SPX</th>\n",
       "      <th>GLD</th>\n",
       "      <th>USO</th>\n",
       "      <th>SLV</th>\n",
       "      <th>EUR/USD</th>\n",
       "    </tr>\n",
       "  </thead>\n",
       "  <tbody>\n",
       "    <tr>\n",
       "      <th>count</th>\n",
       "      <td>2290.000000</td>\n",
       "      <td>2290.000000</td>\n",
       "      <td>2290.000000</td>\n",
       "      <td>2290.000000</td>\n",
       "      <td>2290.000000</td>\n",
       "    </tr>\n",
       "    <tr>\n",
       "      <th>mean</th>\n",
       "      <td>1654.315776</td>\n",
       "      <td>122.732875</td>\n",
       "      <td>31.842221</td>\n",
       "      <td>20.084997</td>\n",
       "      <td>1.283653</td>\n",
       "    </tr>\n",
       "    <tr>\n",
       "      <th>std</th>\n",
       "      <td>519.111540</td>\n",
       "      <td>23.283346</td>\n",
       "      <td>19.523517</td>\n",
       "      <td>7.092566</td>\n",
       "      <td>0.131547</td>\n",
       "    </tr>\n",
       "    <tr>\n",
       "      <th>min</th>\n",
       "      <td>676.530029</td>\n",
       "      <td>70.000000</td>\n",
       "      <td>7.960000</td>\n",
       "      <td>8.850000</td>\n",
       "      <td>1.039047</td>\n",
       "    </tr>\n",
       "    <tr>\n",
       "      <th>25%</th>\n",
       "      <td>1239.874969</td>\n",
       "      <td>109.725000</td>\n",
       "      <td>14.380000</td>\n",
       "      <td>15.570000</td>\n",
       "      <td>1.171313</td>\n",
       "    </tr>\n",
       "    <tr>\n",
       "      <th>50%</th>\n",
       "      <td>1551.434998</td>\n",
       "      <td>120.580002</td>\n",
       "      <td>33.869999</td>\n",
       "      <td>17.268500</td>\n",
       "      <td>1.303296</td>\n",
       "    </tr>\n",
       "    <tr>\n",
       "      <th>75%</th>\n",
       "      <td>2073.010070</td>\n",
       "      <td>132.840004</td>\n",
       "      <td>37.827501</td>\n",
       "      <td>22.882499</td>\n",
       "      <td>1.369971</td>\n",
       "    </tr>\n",
       "    <tr>\n",
       "      <th>max</th>\n",
       "      <td>2872.870117</td>\n",
       "      <td>184.589996</td>\n",
       "      <td>117.480003</td>\n",
       "      <td>47.259998</td>\n",
       "      <td>1.598798</td>\n",
       "    </tr>\n",
       "  </tbody>\n",
       "</table>\n",
       "</div>"
      ],
      "text/plain": [
       "               SPX          GLD          USO          SLV      EUR/USD\n",
       "count  2290.000000  2290.000000  2290.000000  2290.000000  2290.000000\n",
       "mean   1654.315776   122.732875    31.842221    20.084997     1.283653\n",
       "std     519.111540    23.283346    19.523517     7.092566     0.131547\n",
       "min     676.530029    70.000000     7.960000     8.850000     1.039047\n",
       "25%    1239.874969   109.725000    14.380000    15.570000     1.171313\n",
       "50%    1551.434998   120.580002    33.869999    17.268500     1.303296\n",
       "75%    2073.010070   132.840004    37.827501    22.882499     1.369971\n",
       "max    2872.870117   184.589996   117.480003    47.259998     1.598798"
      ]
     },
     "execution_count": 6,
     "metadata": {},
     "output_type": "execute_result"
    }
   ],
   "source": [
    "df.describe()"
   ]
  },
  {
   "cell_type": "code",
   "execution_count": 7,
   "metadata": {},
   "outputs": [
    {
     "data": {
      "text/plain": [
       "Date       0\n",
       "SPX        0\n",
       "GLD        0\n",
       "USO        0\n",
       "SLV        0\n",
       "EUR/USD    0\n",
       "dtype: int64"
      ]
     },
     "execution_count": 7,
     "metadata": {},
     "output_type": "execute_result"
    }
   ],
   "source": [
    "## Check for Misising and Null Values\n",
    "\n",
    "df.isnull().sum()"
   ]
  },
  {
   "cell_type": "code",
   "execution_count": null,
   "metadata": {},
   "outputs": [],
   "source": []
  },
  {
   "cell_type": "code",
   "execution_count": 12,
   "metadata": {},
   "outputs": [],
   "source": [
    "### Check Correlation\n",
    "\n",
    "corr = df.corr()"
   ]
  },
  {
   "cell_type": "code",
   "execution_count": 15,
   "metadata": {},
   "outputs": [
    {
     "data": {
      "image/png": "[encoded data removed]",
      "text/plain": [
       "<Figure size 432x288 with 2 Axes>"
      ]
     },
     "metadata": {
      "needs_background": "light"
     },
     "output_type": "display_data"
    }
   ],
   "source": [
    "sns.heatmap(corr, annot = True, cmap = 'Reds')\n",
    "\n",
    "plt.show()"
   ]
  },
  {
   "cell_type": "code",
   "execution_count": 23,
   "metadata": {},
   "outputs": [
    {
     "data": {
      "image/png": "[encoded data removed]",
      "text/plain": [
       "<Figure size 432x288 with 1 Axes>"
      ]
     },
     "metadata": {
      "needs_background": "light"
     },
     "output_type": "display_data"
    }
   ],
   "source": [
    "## Check the distribution of the GLD Price\n",
    "\n",
    "\n",
    "sns.distplot(df['GLD'], color = 'red')\n",
    "\n",
    "plt.show()"
   ]
  },
  {
   "cell_type": "code",
   "execution_count": null,
   "metadata": {},
   "outputs": [],
   "source": [
    "## Split the Data into Dependent & Independent"
   ]
  },
  {
   "cell_type": "code",
   "execution_count": 24,
   "metadata": {},
   "outputs": [],
   "source": [
    "X = df.drop(['Date','GLD'], axis=1)\n",
    "\n",
    "Y = df['GLD']"
   ]
  },
  {
   "cell_type": "code",
   "execution_count": 25,
   "metadata": {},
   "outputs": [
    {
     "name": "stdout",
     "output_type": "stream",
     "text": [
      "              SPX        USO      SLV   EUR/USD\n",
      "0     1447.160034  78.470001  15.1800  1.471692\n",
      "1     1447.160034  78.370003  15.2850  1.474491\n",
      "2     1411.630005  77.309998  15.1670  1.475492\n",
      "3     1416.180054  75.500000  15.0530  1.468299\n",
      "4     1390.189941  76.059998  15.5900  1.557099\n",
      "...           ...        ...      ...       ...\n",
      "2285  2671.919922  14.060000  15.5100  1.186789\n",
      "2286  2697.790039  14.370000  15.5300  1.184722\n",
      "2287  2723.070068  14.410000  15.7400  1.191753\n",
      "2288  2730.129883  14.380000  15.5600  1.193118\n",
      "2289  2725.780029  14.405800  15.4542  1.182033\n",
      "\n",
      "[2290 rows x 4 columns]\n"
     ]
    }
   ],
   "source": [
    "print(X)"
   ]
  },
  {
   "cell_type": "code",
   "execution_count": 26,
   "metadata": {
    "scrolled": true
   },
   "outputs": [
    {
     "name": "stdout",
     "output_type": "stream",
     "text": [
      "0        84.860001\n",
      "1        85.570000\n",
      "2        85.129997\n",
      "3        84.769997\n",
      "4        86.779999\n",
      "           ...    \n",
      "2285    124.589996\n",
      "2286    124.330002\n",
      "2287    125.180000\n",
      "2288    124.489998\n",
      "2289    122.543800\n",
      "Name: GLD, Length: 2290, dtype: float64\n"
     ]
    }
   ],
   "source": [
    "print(Y)"
   ]
  },
  {
   "cell_type": "code",
   "execution_count": null,
   "metadata": {},
   "outputs": [],
   "source": [
    "### Split Data into Training and Test Data"
   ]
  },
  {
   "cell_type": "code",
   "execution_count": 28,
   "metadata": {},
   "outputs": [],
   "source": [
    "X_train, X_test, Y_train, Y_test = train_test_split(X, Y, test_size = 0.2, random_state=2)"
   ]
  },
  {
   "cell_type": "code",
   "execution_count": null,
   "metadata": {},
   "outputs": [],
   "source": []
  },
  {
   "cell_type": "code",
   "execution_count": null,
   "metadata": {},
   "outputs": [],
   "source": [
    "### Model Training: Random Forest Regressor"
   ]
  },
  {
   "cell_type": "code",
   "execution_count": 30,
   "metadata": {},
   "outputs": [
    {
     "data": {
      "text/plain": [
       "RandomForestRegressor(bootstrap=True, criterion='mse', max_depth=None,\n",
       "                      max_features='auto', max_leaf_nodes=None,\n",
       "                      min_impurity_decrease=0.0, min_impurity_split=None,\n",
       "                      min_samples_leaf=1, min_samples_split=2,\n",
       "                      min_weight_fraction_leaf=0.0, n_estimators=100,\n",
       "                      n_jobs=None, oob_score=False, random_state=None,\n",
       "                      verbose=0, warm_start=False)"
      ]
     },
     "execution_count": 30,
     "metadata": {},
     "output_type": "execute_result"
    }
   ],
   "source": [
    "regressor = RandomForestRegressor(n_estimators = 100)\n",
    "\n",
    "regressor.fit (X_train, Y_train)"
   ]
  },
  {
   "cell_type": "code",
   "execution_count": null,
   "metadata": {},
   "outputs": [],
   "source": [
    "### Prediction on Test Data"
   ]
  },
  {
   "cell_type": "code",
   "execution_count": 40,
   "metadata": {},
   "outputs": [
    {
     "name": "stdout",
     "output_type": "stream",
     "text": [
      "[168.22899894  82.22699985 115.94929986 127.66590078 120.78930125\n",
      " 154.60399719 149.90229826 126.06820046 117.50719848 125.93500085\n",
      " 116.56040144 171.98410093 141.4268987  167.98739941 115.13440041\n",
      " 117.51330042 138.6491034  170.13770088 160.04950297 160.23759924\n",
      " 155.23400048 125.39130057 176.46469996 156.92930346 125.12730052\n",
      "  93.78789954  77.51160015 120.68960016 119.05909904 167.44849988\n",
      "  88.13290033 125.35140025  90.91770031 117.78890023 121.07719931\n",
      " 136.16820122 115.25760135 114.74770091 148.35439969 107.06750085\n",
      " 104.71280248  87.31899808 126.52520055 117.99960006 152.92989886\n",
      " 119.54430034 108.42849962 108.09849804  93.15530057 127.06489801\n",
      "  74.64040048 113.59079902 121.40080022 111.38169908 118.86429868\n",
      " 120.77689928 159.13189981 166.85410157 146.88189647  85.74199886\n",
      "  94.33590004  86.86229884  90.30740005 118.95280086 126.36610048\n",
      " 127.53780003 169.78550024 122.23189945 117.38669872  98.5074001\n",
      " 168.73300158 143.29269886 132.1817026  121.23290215 120.38419908\n",
      " 119.60490058 114.40350146 118.16300059 107.11590113 128.01410131\n",
      " 113.81239916 106.66969991 116.6819008  119.61149887  88.96480083\n",
      "  88.26589857 146.65470244 127.20860047 113.45300043 110.2567982\n",
      " 108.19559907  77.47699894 169.87160198 114.00879925 121.57789896\n",
      " 128.03550137 154.87349794  91.78829916 136.46650122 158.76390343\n",
      " 125.42710059 125.39320064 130.54280219 114.71000128 119.9631999\n",
      "  92.13419957 110.47859868 167.70659995 157.45799944 114.20559955\n",
      " 106.87160118  79.76409968 113.12080053 125.8493007  107.14439948\n",
      " 119.13750069 156.31930327 159.56019865 120.18159971 135.46450301\n",
      " 101.52389969 117.49219814 119.03579991 112.93630077 102.79979929\n",
      " 160.37679843  99.10010025 148.87729912 125.71800133 170.17439956\n",
      " 125.81019878 127.25619832 127.32970202 113.76919946 113.14850078\n",
      " 123.61109873 102.19519907  89.07980007 124.70209976 101.39749936\n",
      " 107.13059903 113.33860059 117.06930083  99.14709939 121.56920038\n",
      " 163.10429938  87.60349905 106.80490017 117.3350006  127.713902\n",
      " 124.1992006   80.62359905 119.99340081 158.72209796  87.68599975\n",
      " 110.42349916 118.93319914 172.00289836 103.01279912 105.86570051\n",
      " 122.72900054 158.9731973   87.68069831  92.89620037 112.43330051\n",
      " 176.94799948 114.67369998 119.02159969  94.85880126 125.64630029\n",
      " 166.14860088 114.77340062 116.57420118  88.29339855 149.27130079\n",
      " 120.38159924  89.46789973 112.58769993 117.3162006  118.75600103\n",
      "  87.99069925  94.2960004  116.94600016 118.56970226 120.33750042\n",
      " 126.81159822 121.88669976 148.1747003  165.04650066 118.5360997\n",
      " 120.33520145 150.24780088 118.92949898 172.35399882 105.8613994\n",
      " 104.97170075 149.85940092 113.42380102 124.8069013  147.14069948\n",
      " 119.60990087 115.33460041 112.95479994 113.33700227 140.48100133\n",
      " 117.97879758 102.9839003  115.89800079 103.98330202  98.72080011\n",
      " 117.60980036  90.77020004  91.46110044 153.27209918 102.64139965\n",
      " 154.32960107 114.29590181 138.34600145  90.14009818 115.60239963\n",
      " 114.87839977 122.75330033 121.72620046 165.38710217  92.78699951\n",
      " 135.65690118 121.35559917 120.78540079 104.52310032 140.26660372\n",
      " 122.19419909 116.6843004  113.78520053 127.36869747 122.52489959\n",
      " 125.82709961 121.26310041  86.95609917 132.75820167 143.10840271\n",
      "  92.73709962 159.83430032 159.2461031  126.50969855 165.18969937\n",
      " 108.79849982 110.1185009  103.56029843  94.35920052 128.00000295\n",
      " 107.25380018 162.09590021 121.54920031 132.09490048 130.57350213\n",
      " 160.92329923  90.13079841 175.43240197 127.38510079 126.82629846\n",
      "  86.3928996  124.58529976 150.22129735  89.63839998 106.9772001\n",
      " 109.06069993  84.37899889 135.94499994 154.82050276 138.27300369\n",
      "  74.56960002 151.28310119 125.94429977 126.72670039 127.49619885\n",
      " 108.66599926 156.40230004 114.53260091 116.99080141 125.28919948\n",
      " 153.99670074 121.39139976 156.33459903  92.9716005  125.4832014\n",
      " 125.96460014  87.88840049  92.18269877 126.35479934 128.26420303\n",
      " 113.09230012 117.7394976  120.85830026 127.47029749 119.19550117\n",
      " 136.31680115  94.08829963 119.55860035 113.02270112  94.42409989\n",
      " 108.74799943  86.88659919 109.35779923  89.47039998  92.60140009\n",
      " 131.556203   162.38660071  89.30680017 119.83390095 133.41940174\n",
      " 123.93420009 128.28940137 101.99129849  88.96289851 132.07540105\n",
      " 119.61410048 109.0038002  167.85400104 115.23130069  86.58699924\n",
      " 118.7667006   90.8995998  161.66410044 116.78920037 121.62940001\n",
      " 160.2994982  120.01469952 112.74919911 108.43009881 126.67310005\n",
      "  75.89830039 103.00259977 127.88660294 121.83869883  92.51109997\n",
      " 132.07280093 118.25660118 116.13739967 154.67720238 160.09080066\n",
      " 109.97969974 152.91589754 119.07610101 160.13040099 118.36940016\n",
      " 157.78629952 115.22159935 116.55470025 148.95219971 114.75140097\n",
      " 125.64699836 165.87329973 117.76439995 125.06849899 153.48090363\n",
      " 153.55270182 132.09190124 114.76550061 121.31570194 125.46830105\n",
      "  89.68970056 122.98939993 155.42150249 111.80190046 106.70799987\n",
      " 161.37490087 118.30319969 165.80609984 134.01130128 115.11390003\n",
      " 153.03119882 168.94100036 115.16049994 114.09720105 159.63819904\n",
      "  84.97439929 127.0291004  127.84780051 128.90160019 124.20390062\n",
      " 123.80860084  90.51620097 153.31049958  97.10529979 137.98700004\n",
      "  89.13089916 106.72019994 115.09520048 112.84910068 124.23809937\n",
      "  91.34599889 125.25580107 162.39089856 119.83669867 164.95260162\n",
      " 126.86549802 112.48670016 127.45199932  95.0580985   90.87680004\n",
      " 103.62129911 120.77790011  82.91739961 126.4542001  160.87760422\n",
      " 117.20540056 118.42199985 120.05220016 122.75409973 120.07970139\n",
      " 121.52439968 118.5291004  106.96849957 148.19569907 126.37169815\n",
      " 115.63530081  73.77379997 127.82730112 154.07180078 122.02029976\n",
      " 125.63350078  88.8684002  103.5971985  125.20300052 120.24730038\n",
      "  73.40290093 151.6927006  121.17020069 104.7314      86.11679788\n",
      " 115.09269869 172.14999829 119.85840016 160.70849811 113.26399971\n",
      " 121.07170021 118.40120107  95.93529979 118.84760004 126.14870062\n",
      " 118.55089967  96.02180043 154.28440193 122.1626997  147.84449989\n",
      " 159.66590195 113.78520042 122.4854994  149.93979863 127.45780051\n",
      " 165.46680012 135.1458997  120.18599955 167.63989861 108.23879924\n",
      " 121.83459843 138.43560105 106.48609912]\n"
     ]
    }
   ],
   "source": [
    "pred = regressor.predict(X_test)\n",
    "\n",
    "print(pred)"
   ]
  },
  {
   "cell_type": "code",
   "execution_count": 43,
   "metadata": {},
   "outputs": [
    {
     "name": "stdout",
     "output_type": "stream",
     "text": [
      "R squared error :  0.989831856117321\n"
     ]
    }
   ],
   "source": [
    "# R Squared Error\n",
    "\n",
    "\n",
    "error = metrics.r2_score(Y_test, pred)\n",
    "\n",
    "print(\"R squared error : \", error)"
   ]
  },
  {
   "cell_type": "code",
   "execution_count": null,
   "metadata": {},
   "outputs": [],
   "source": [
    "### Display the actual and predicted data"
   ]
  },
  {
   "cell_type": "code",
   "execution_count": 44,
   "metadata": {},
   "outputs": [
    {
     "data": {
      "text/html": [
       "<div>\n",
       "<style scoped>\n",
       "    .dataframe tbody tr th:only-of-type {\n",
       "        vertical-align: middle;\n",
       "    }\n",
       "\n",
       "    .dataframe tbody tr th {\n",
       "        vertical-align: top;\n",
       "    }\n",
       "\n",
       "    .dataframe thead th {\n",
       "        text-align: right;\n",
       "    }\n",
       "</style>\n",
       "<table border=\"1\" class=\"dataframe\">\n",
       "  <thead>\n",
       "    <tr style=\"text-align: right;\">\n",
       "      <th></th>\n",
       "      <th>Actual</th>\n",
       "      <th>Predicted</th>\n",
       "    </tr>\n",
       "  </thead>\n",
       "  <tbody>\n",
       "    <tr>\n",
       "      <th>0</th>\n",
       "      <td>168.020004</td>\n",
       "      <td>168.228999</td>\n",
       "    </tr>\n",
       "    <tr>\n",
       "      <th>1</th>\n",
       "      <td>81.230003</td>\n",
       "      <td>82.227000</td>\n",
       "    </tr>\n",
       "    <tr>\n",
       "      <th>2</th>\n",
       "      <td>112.320000</td>\n",
       "      <td>115.949300</td>\n",
       "    </tr>\n",
       "    <tr>\n",
       "      <th>3</th>\n",
       "      <td>127.589996</td>\n",
       "      <td>127.665901</td>\n",
       "    </tr>\n",
       "    <tr>\n",
       "      <th>4</th>\n",
       "      <td>119.620003</td>\n",
       "      <td>120.789301</td>\n",
       "    </tr>\n",
       "    <tr>\n",
       "      <th>...</th>\n",
       "      <td>...</td>\n",
       "      <td>...</td>\n",
       "    </tr>\n",
       "    <tr>\n",
       "      <th>453</th>\n",
       "      <td>166.380005</td>\n",
       "      <td>167.639899</td>\n",
       "    </tr>\n",
       "    <tr>\n",
       "      <th>454</th>\n",
       "      <td>106.379997</td>\n",
       "      <td>108.238799</td>\n",
       "    </tr>\n",
       "    <tr>\n",
       "      <th>455</th>\n",
       "      <td>122.239998</td>\n",
       "      <td>121.834598</td>\n",
       "    </tr>\n",
       "    <tr>\n",
       "      <th>456</th>\n",
       "      <td>133.830002</td>\n",
       "      <td>138.435601</td>\n",
       "    </tr>\n",
       "    <tr>\n",
       "      <th>457</th>\n",
       "      <td>102.360001</td>\n",
       "      <td>106.486099</td>\n",
       "    </tr>\n",
       "  </tbody>\n",
       "</table>\n",
       "<p>458 rows × 2 columns</p>\n",
       "</div>"
      ],
      "text/plain": [
       "         Actual   Predicted\n",
       "0    168.020004  168.228999\n",
       "1     81.230003   82.227000\n",
       "2    112.320000  115.949300\n",
       "3    127.589996  127.665901\n",
       "4    119.620003  120.789301\n",
       "..          ...         ...\n",
       "453  166.380005  167.639899\n",
       "454  106.379997  108.238799\n",
       "455  122.239998  121.834598\n",
       "456  133.830002  138.435601\n",
       "457  102.360001  106.486099\n",
       "\n",
       "[458 rows x 2 columns]"
      ]
     },
     "execution_count": 44,
     "metadata": {},
     "output_type": "execute_result"
    }
   ],
   "source": [
    "pd.DataFrame(np.c_[Y_test , pred] , columns =['Actual' , 'Predicted'])"
   ]
  },
  {
   "cell_type": "code",
   "execution_count": 51,
   "metadata": {},
   "outputs": [
    {
     "data": {
      "image/png": "[encoded data removed]",
      "text/plain": [
       "<Figure size 432x288 with 1 Axes>"
      ]
     },
     "metadata": {
      "needs_background": "light"
     },
     "output_type": "display_data"
    }
   ],
   "source": [
    "plt.scatter(Y_test, pred)\n",
    "plt.title('Actual Price vs Predicted Price')\n",
    "\n",
    "plt.show()"
   ]
  },
  {
   "cell_type": "code",
   "execution_count": 47,
   "metadata": {},
   "outputs": [],
   "source": [
    "Y_test = list (Y_test)"
   ]
  },
  {
   "cell_type": "code",
   "execution_count": 50,
   "metadata": {},
   "outputs": [
    {
     "data": {
      "image/png": "[encoded data removed]",
      "text/plain": [
       "<Figure size 432x288 with 1 Axes>"
      ]
     },
     "metadata": {
      "needs_background": "light"
     },
     "output_type": "display_data"
    }
   ],
   "source": [
    "plt.plot(Y_test, color='green', label = 'Actual')\n",
    "plt.plot(pred, color='pink', label='Predicted')\n",
    "plt.title('Actual Price vs Predicted Price')\n",
    "plt.xlabel('Number of values')\n",
    "plt.ylabel('GOLD Price')\n",
    "plt.legend()\n",
    "plt.show()"
   ]
  }
 ],
 "metadata": {
  "kernelspec": {
   "display_name": "Python 3",
   "language": "python",
   "name": "python3"
  },
  "language_info": {
   "codemirror_mode": {
    "name": "ipython",
    "version": 3
   },
   "file_extension": ".py",
   "mimetype": "text/x-python",
   "name": "python",
   "nbconvert_exporter": "python",
   "pygments_lexer": "ipython3",
   "version": "3.7.6"
  }
 },
 "nbformat": 4,
 "nbformat_minor": 4
}
